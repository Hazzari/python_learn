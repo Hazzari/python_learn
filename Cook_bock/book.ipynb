{
 "cells": [
  {
   "cell_type": "markdown",
   "metadata": {
    "collapsed": true,
    "pycharm": {
     "name": "#%% md\n"
    }
   },
   "source": [
    "## Книга рецептов"
   ]
  },
  {
   "cell_type": "markdown",
   "source": [
    "deque - имеет сложность вставки и удаления с обеих сторон O(1)"
   ],
   "metadata": {
    "collapsed": false,
    "pycharm": {
     "name": "#%% md\n"
    }
   }
  },
  {
   "cell_type": "code",
   "execution_count": 4,
   "outputs": [
    {
     "name": "stdout",
     "output_type": "stream",
     "text": [
      "1 with open('somefile.txt') as f:\n",
      "--------------------\n",
      "1 with open('somefile.txt') as f:\n",
      "2 with open('somefile.txt') as f:\n",
      "--------------------\n",
      "1 with open('somefile.txt') as f:\n",
      "2 with open('somefile.txt') as f:\n",
      "3 with open('somefile.txt') as f:\n",
      "--------------------\n",
      "2 with open('somefile.txt') as f:\n",
      "3 with open('somefile.txt') as f:\n",
      "4 with open('somefile.txt') as f:\n",
      "--------------------\n",
      "3 with open('somefile.txt') as f:\n",
      "4 with open('somefile.txt') as f:\n",
      "5 with open('somefile.txt') as f:\n",
      "--------------------\n",
      "4 with open('somefile.txt') as f:\n",
      "5 with open('somefile.txt') as f:\n",
      "6 with open('somefile.txt') as f:\n",
      "--------------------\n",
      "5 with open('somefile.txt') as f:\n",
      "6 with open('somefile.txt') as f:\n",
      "7 with open('somefile.txt') as f:\n",
      "--------------------\n",
      "6 with open('somefile.txt') as f:\n",
      "7 with open('somefile.txt') as f:\n",
      "8 with open('somefile.txt') as f:\n",
      "--------------------\n",
      "7 with open('somefile.txt') as f:\n",
      "8 with open('somefile.txt') as f:\n",
      "9 with open('somefile.txt') as f:\n",
      "--------------------\n"
     ]
    }
   ],
   "source": [
    "from collections import deque\n",
    "\n",
    "\n",
    "def search(lines, pattern, history=5):\n",
    "    # Поиск элемента в строке файла\n",
    "    previous_lines = deque(maxlen=history)\n",
    "\n",
    "    for line in lines:\n",
    "        if pattern in line:\n",
    "            yield line, previous_lines\n",
    "        previous_lines.append(line)\n",
    "\n",
    "\n",
    "if __name__ == '__main__':\n",
    "    with open('some_file.txt') as f:\n",
    "        for line, prevlines in search(lines=f, pattern='somefile', history=2):\n",
    "            for pline in prevlines:\n",
    "                print(pline, end='')\n",
    "            print(line, end='')\n",
    "            print('-' * 20)\n"
   ],
   "metadata": {
    "collapsed": false,
    "pycharm": {
     "name": "#%%\n"
    }
   }
  },
  {
   "cell_type": "code",
   "execution_count": null,
   "outputs": [],
   "source": [],
   "metadata": {
    "collapsed": false,
    "pycharm": {
     "name": "#%%\n"
    }
   }
  }
 ],
 "metadata": {
  "kernelspec": {
   "display_name": "Python 3",
   "language": "python",
   "name": "python3"
  },
  "language_info": {
   "codemirror_mode": {
    "name": "ipython",
    "version": 2
   },
   "file_extension": ".py",
   "mimetype": "text/x-python",
   "name": "python",
   "nbconvert_exporter": "python",
   "pygments_lexer": "ipython2",
   "version": "2.7.6"
  }
 },
 "nbformat": 4,
 "nbformat_minor": 0
}