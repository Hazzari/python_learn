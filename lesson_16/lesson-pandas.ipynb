{
 "cells": [
  {
   "cell_type": "markdown",
   "metadata": {
    "collapsed": true,
    "pycharm": {
     "name": "#%% md\n"
    }
   },
   "source": [
    "Основы работы с библиотекой Pandas\n"
   ]
  },
  {
   "cell_type": "code",
   "execution_count": 107,
   "metadata": {
    "pycharm": {
     "name": "#%%\n"
    }
   },
   "outputs": [],
   "source": [
    "import pandas as pd\n",
    "\n",
    "# help(pd)"
   ]
  },
  {
   "cell_type": "markdown",
   "metadata": {
    "pycharm": {
     "name": "#%% md\n"
    }
   },
   "source": [
    "Основные структуры данных:\n",
    "\n",
    "- Series - похожа на list (но ассоциативный)\n",
    "    - единица данных\n",
    "- DataFrame"
   ]
  },
  {
   "cell_type": "code",
   "execution_count": 108,
   "metadata": {
    "pycharm": {
     "name": "#%%\n"
    }
   },
   "outputs": [],
   "source": [
    "ser_demo = pd.Series(range(7, 17))"
   ]
  },
  {
   "cell_type": "code",
   "execution_count": 109,
   "metadata": {
    "pycharm": {
     "name": "#%%\n"
    }
   },
   "outputs": [
    {
     "name": "stdout",
     "output_type": "stream",
     "text": [
      "0     7\n",
      "1     8\n",
      "2     9\n",
      "3    10\n",
      "4    11\n",
      "5    12\n",
      "6    13\n",
      "7    14\n",
      "8    15\n",
      "9    16\n",
      "dtype: int64\n"
     ]
    }
   ],
   "source": [
    "print(ser_demo)"
   ]
  },
  {
   "cell_type": "code",
   "execution_count": 110,
   "metadata": {
    "pycharm": {
     "name": "#%%\n"
    }
   },
   "outputs": [
    {
     "data": {
      "text/plain": "RangeIndex(start=0, stop=10, step=1)"
     },
     "execution_count": 110,
     "metadata": {},
     "output_type": "execute_result"
    }
   ],
   "source": [
    "ser_demo.index"
   ]
  },
  {
   "cell_type": "code",
   "execution_count": 111,
   "metadata": {
    "pycharm": {
     "name": "#%%\n"
    }
   },
   "outputs": [
    {
     "data": {
      "text/plain": "array([ 7,  8,  9, 10, 11, 12, 13, 14, 15, 16])"
     },
     "execution_count": 111,
     "metadata": {},
     "output_type": "execute_result"
    }
   ],
   "source": [
    "ser_demo.values"
   ]
  },
  {
   "cell_type": "code",
   "execution_count": 112,
   "metadata": {
    "pycharm": {
     "name": "#%%\n"
    }
   },
   "outputs": [
    {
     "data": {
      "text/plain": "numpy.ndarray"
     },
     "execution_count": 112,
     "metadata": {},
     "output_type": "execute_result"
    }
   ],
   "source": [
    "type(ser_demo.values)\n"
   ]
  },
  {
   "cell_type": "code",
   "execution_count": 113,
   "metadata": {
    "pycharm": {
     "name": "#%%\n"
    }
   },
   "outputs": [],
   "source": [
    "data = list(range(10))"
   ]
  },
  {
   "cell_type": "code",
   "execution_count": 114,
   "metadata": {
    "pycharm": {
     "name": "#%%\n"
    }
   },
   "outputs": [
    {
     "name": "stdout",
     "output_type": "stream",
     "text": [
      "[0, 1, 2, 3, 4, 5, 6, 7, 8, 9]\n",
      "abcdefghijklmnopqrstuvwxyz\n"
     ]
    }
   ],
   "source": [
    "from string import ascii_lowercase\n",
    "print(data)\n",
    "print(ascii_lowercase)"
   ]
  },
  {
   "cell_type": "code",
   "execution_count": 115,
   "metadata": {
    "pycharm": {
     "name": "#%%\n"
    }
   },
   "outputs": [],
   "source": [
    "index_letter = [ascii_lowercase[i] for i in data]"
   ]
  },
  {
   "cell_type": "code",
   "execution_count": 116,
   "metadata": {
    "pycharm": {
     "name": "#%%\n"
    }
   },
   "outputs": [
    {
     "name": "stdout",
     "output_type": "stream",
     "text": [
      "['a', 'b', 'c', 'd', 'e', 'f', 'g', 'h', 'i', 'j']\n"
     ]
    }
   ],
   "source": [
    "print(index_letter)"
   ]
  },
  {
   "cell_type": "markdown",
   "metadata": {},
   "source": [
    "Символы в качестве индексов"
   ]
  },
  {
   "cell_type": "code",
   "execution_count": 117,
   "metadata": {
    "pycharm": {
     "name": "#%%\n"
    }
   },
   "outputs": [],
   "source": [
    "\n",
    "s = pd.Series(data, index=index_letter)"
   ]
  },
  {
   "cell_type": "code",
   "execution_count": 118,
   "metadata": {
    "pycharm": {
     "name": "#%%\n"
    }
   },
   "outputs": [
    {
     "name": "stdout",
     "output_type": "stream",
     "text": [
      "a    0\n",
      "b    1\n",
      "c    2\n",
      "d    3\n",
      "e    4\n",
      "f    5\n",
      "g    6\n",
      "h    7\n",
      "i    8\n",
      "j    9\n",
      "dtype: int64\n"
     ]
    }
   ],
   "source": [
    "print(s)"
   ]
  },
  {
   "cell_type": "code",
   "execution_count": 119,
   "metadata": {
    "pycharm": {
     "name": "#%%\n"
    }
   },
   "outputs": [
    {
     "data": {
      "text/plain": "8"
     },
     "execution_count": 119,
     "metadata": {},
     "output_type": "execute_result"
    }
   ],
   "source": [
    "s['i']\n"
   ]
  },
  {
   "cell_type": "code",
   "execution_count": 120,
   "metadata": {
    "pycharm": {
     "name": "#%%\n"
    }
   },
   "outputs": [
    {
     "data": {
      "text/plain": "a    0\nb    1\nc    2\nf    5\ndtype: int64"
     },
     "execution_count": 120,
     "metadata": {},
     "output_type": "execute_result"
    }
   ],
   "source": [
    "s[['a', 'b', 'c', 'f']]\n"
   ]
  },
  {
   "cell_type": "code",
   "execution_count": 121,
   "metadata": {
    "pycharm": {
     "name": "#%%\n"
    }
   },
   "outputs": [
    {
     "data": {
      "text/plain": "h    14\ni    16\nj    18\ndtype: int64"
     },
     "execution_count": 121,
     "metadata": {},
     "output_type": "execute_result"
    }
   ],
   "source": [
    "s[s > 6] * 2"
   ]
  },
  {
   "cell_type": "code",
   "execution_count": 122,
   "metadata": {
    "pycharm": {
     "name": "#%%\n"
    }
   },
   "outputs": [
    {
     "data": {
      "text/plain": "a     0\nb     1\nc     4\nd     9\ne    16\nf    25\ng    36\nh    49\ni    64\nj    81\ndtype: int64"
     },
     "execution_count": 122,
     "metadata": {},
     "output_type": "execute_result"
    }
   ],
   "source": [
    "s ** 2"
   ]
  },
  {
   "cell_type": "code",
   "execution_count": 123,
   "metadata": {},
   "outputs": [
    {
     "data": {
      "text/plain": "True"
     },
     "execution_count": 123,
     "metadata": {},
     "output_type": "execute_result"
    }
   ],
   "source": [
    "'f' in s"
   ]
  },
  {
   "cell_type": "code",
   "execution_count": 124,
   "metadata": {
    "pycharm": {
     "name": "#%%\n"
    }
   },
   "outputs": [
    {
     "data": {
      "text/plain": "False"
     },
     "execution_count": 124,
     "metadata": {},
     "output_type": "execute_result"
    }
   ],
   "source": [
    "'k' in s"
   ]
  },
  {
   "cell_type": "code",
   "execution_count": 125,
   "metadata": {
    "pycharm": {
     "name": "#%%\n"
    }
   },
   "outputs": [
    {
     "data": {
      "text/plain": "6"
     },
     "execution_count": 125,
     "metadata": {},
     "output_type": "execute_result"
    }
   ],
   "source": [
    "# По порядковому индексу элемента\n",
    "s.iloc[6]"
   ]
  },
  {
   "cell_type": "code",
   "execution_count": 126,
   "metadata": {
    "pycharm": {
     "name": "#%%\n"
    }
   },
   "outputs": [
    {
     "data": {
      "text/plain": "a    0\nb    1\nc    2\ndtype: int64"
     },
     "execution_count": 126,
     "metadata": {},
     "output_type": "execute_result"
    }
   ],
   "source": [
    "# первые\n",
    "s.head(3)\n"
   ]
  },
  {
   "cell_type": "code",
   "execution_count": 127,
   "metadata": {
    "pycharm": {
     "name": "#%%\n"
    }
   },
   "outputs": [
    {
     "name": "stdout",
     "output_type": "stream",
     "text": [
      "{'a': 0, 'b': 1, 'c': 2, 'd': 3, 'e': 4, 'f': 5, 'g': 6, 'h': 7, 'i': 8, 'j': 9}\n",
      "a    0.0\n",
      "b    1.0\n",
      "c    2.0\n",
      "d    3.0\n",
      "e    4.0\n",
      "f    5.0\n",
      "g    6.0\n",
      "h    7.0\n",
      "i    8.0\n",
      "j    9.0\n",
      "dtype: float64\n",
      "a    0\n",
      "b    1\n",
      "c    2\n",
      "d    3\n",
      "e    4\n",
      "f    5\n",
      "g    6\n",
      "h    7\n",
      "i    8\n",
      "j    9\n",
      "dtype: int64\n"
     ]
    }
   ],
   "source": [
    "items = {ascii_lowercase[i]: i for i in range(10)}\n",
    "print(items)\n",
    "\n",
    "x = pd.Series(items, dtype='float')\n",
    "s = pd.Series(items, dtype='int64')\n",
    "print(x)\n",
    "print(s)"
   ]
  },
  {
   "cell_type": "markdown",
   "metadata": {},
   "source": [
    "Заполняет недостающие элементы NaN"
   ]
  },
  {
   "cell_type": "code",
   "execution_count": 128,
   "metadata": {
    "pycharm": {
     "name": "#%%\n"
    }
   },
   "outputs": [
    {
     "name": "stdout",
     "output_type": "stream",
     "text": [
      "a    0.0\n",
      "b    1.0\n",
      "c    2.0\n",
      "d    3.0\n",
      "e    4.0\n",
      "f    5.0\n",
      "g    6.0\n",
      "h    7.0\n",
      "i    8.0\n",
      "j    9.0\n",
      "k    NaN\n",
      "dtype: float64\n"
     ]
    }
   ],
   "source": [
    "s = pd.Series(items, index=[ascii_lowercase[i] for i in range(len(items) + 1)], )\n",
    "print(s)"
   ]
  },
  {
   "cell_type": "code",
   "execution_count": 129,
   "metadata": {
    "pycharm": {
     "name": "#%%\n"
    }
   },
   "outputs": [
    {
     "data": {
      "text/plain": "4.5"
     },
     "execution_count": 129,
     "metadata": {},
     "output_type": "execute_result"
    }
   ],
   "source": [
    "s.median()"
   ]
  },
  {
   "cell_type": "code",
   "execution_count": 130,
   "metadata": {
    "pycharm": {
     "name": "#%%\n"
    }
   },
   "outputs": [
    {
     "data": {
      "text/plain": "9.0"
     },
     "execution_count": 130,
     "metadata": {},
     "output_type": "execute_result"
    }
   ],
   "source": [
    "s.max()"
   ]
  },
  {
   "cell_type": "code",
   "execution_count": 131,
   "metadata": {
    "pycharm": {
     "name": "#%%\n"
    }
   },
   "outputs": [
    {
     "data": {
      "text/plain": "0.0"
     },
     "execution_count": 131,
     "metadata": {},
     "output_type": "execute_result"
    }
   ],
   "source": [
    "s.min()"
   ]
  },
  {
   "cell_type": "code",
   "execution_count": 132,
   "metadata": {
    "pycharm": {
     "name": "#%%\n"
    }
   },
   "outputs": [
    {
     "name": "stdout",
     "output_type": "stream",
     "text": [
      "a     0.0\n",
      "b     1.0\n",
      "c     2.0\n",
      "d     3.0\n",
      "e     4.0\n",
      "f     5.0\n",
      "g     6.0\n",
      "h     7.0\n",
      "i     8.0\n",
      "j     9.0\n",
      "k    10.0\n",
      "dtype: float64\n",
      "5.0\n"
     ]
    }
   ],
   "source": [
    "s['k'] = 10\n",
    "print(s)\n",
    "print(s.median())"
   ]
  },
  {
   "cell_type": "code",
   "execution_count": 133,
   "metadata": {
    "pycharm": {
     "name": "#%%\n"
    }
   },
   "outputs": [
    {
     "data": {
      "text/plain": "letters\na     0.0\nb     1.0\nc     2.0\nd     3.0\ne     4.0\nf     5.0\ng     6.0\nh     7.0\ni     8.0\nj     9.0\nk    10.0\nName: Numbers, dtype: float64"
     },
     "execution_count": 133,
     "metadata": {},
     "output_type": "execute_result"
    }
   ],
   "source": [
    "s.name = 'Numbers'\n",
    "s.index.name = 'letters'\n",
    "\n",
    "s"
   ]
  },
  {
   "cell_type": "code",
   "execution_count": 134,
   "metadata": {
    "pycharm": {
     "name": "#%%\n"
    }
   },
   "outputs": [
    {
     "data": {
      "text/plain": "<PandasArray>\n[0.0, 1.0, 2.0, 3.0, 4.0, 5.0, 6.0, 7.0, 8.0, 9.0, 10.0]\nLength: 11, dtype: float64"
     },
     "execution_count": 134,
     "metadata": {},
     "output_type": "execute_result"
    }
   ],
   "source": [
    "s.array"
   ]
  },
  {
   "cell_type": "code",
   "execution_count": 135,
   "metadata": {
    "pycharm": {
     "name": "#%%\n"
    }
   },
   "outputs": [
    {
     "data": {
      "text/plain": "5.0"
     },
     "execution_count": 135,
     "metadata": {},
     "output_type": "execute_result"
    }
   ],
   "source": [
    "# еще один вариант вывести элемент по элементу\n",
    "s.array[5]"
   ]
  },
  {
   "cell_type": "code",
   "execution_count": 136,
   "metadata": {
    "pycharm": {
     "name": "#%%\n"
    }
   },
   "outputs": [
    {
     "data": {
      "text/plain": "array([ 0.,  1.,  2.,  3.,  4.,  5.,  6.,  7.,  8.,  9., 10.])"
     },
     "execution_count": 136,
     "metadata": {},
     "output_type": "execute_result"
    }
   ],
   "source": [
    "s.to_numpy()"
   ]
  },
  {
   "cell_type": "code",
   "execution_count": 137,
   "metadata": {
    "pycharm": {
     "name": "#%%\n"
    }
   },
   "outputs": [
    {
     "data": {
      "text/plain": "letters\na        1.000000\nb        2.718282\nc        7.389056\nd       20.085537\ne       54.598150\nf      148.413159\ng      403.428793\nh     1096.633158\ni     2980.957987\nj     8103.083928\nk    22026.465795\nName: Numbers, dtype: float64"
     },
     "execution_count": 137,
     "metadata": {},
     "output_type": "execute_result"
    }
   ],
   "source": [
    "import numpy as np\n",
    "\n",
    "np.exp(s)"
   ]
  },
  {
   "cell_type": "markdown",
   "metadata": {
    "pycharm": {
     "name": "#%% md\n"
    }
   },
   "source": [
    "### DATAFRAME"
   ]
  },
  {
   "cell_type": "code",
   "execution_count": 138,
   "metadata": {
    "pycharm": {
     "name": "#%%\n"
    }
   },
   "outputs": [
    {
     "data": {
      "text/plain": "       country  population    square\nRU      Russia       144.5  17250000\nKZ  Kazakhstan        18.3  22724900\nUA     Ukraine        42.6    603628\nBY     Belarus         9.7    207595",
      "text/html": "<div>\n<style scoped>\n    .dataframe tbody tr th:only-of-type {\n        vertical-align: middle;\n    }\n\n    .dataframe tbody tr th {\n        vertical-align: top;\n    }\n\n    .dataframe thead th {\n        text-align: right;\n    }\n</style>\n<table border=\"1\" class=\"dataframe\">\n  <thead>\n    <tr style=\"text-align: right;\">\n      <th></th>\n      <th>country</th>\n      <th>population</th>\n      <th>square</th>\n    </tr>\n  </thead>\n  <tbody>\n    <tr>\n      <th>RU</th>\n      <td>Russia</td>\n      <td>144.5</td>\n      <td>17250000</td>\n    </tr>\n    <tr>\n      <th>KZ</th>\n      <td>Kazakhstan</td>\n      <td>18.3</td>\n      <td>22724900</td>\n    </tr>\n    <tr>\n      <th>UA</th>\n      <td>Ukraine</td>\n      <td>42.6</td>\n      <td>603628</td>\n    </tr>\n    <tr>\n      <th>BY</th>\n      <td>Belarus</td>\n      <td>9.7</td>\n      <td>207595</td>\n    </tr>\n  </tbody>\n</table>\n</div>"
     },
     "execution_count": 138,
     "metadata": {},
     "output_type": "execute_result"
    }
   ],
   "source": [
    "df = pd.DataFrame({\n",
    "    'country': ['Russia', 'Kazakhstan', 'Ukraine', 'Belarus',],\n",
    "    'population': [144.5, 18.3, 42.6, 9.7, ],\n",
    "    'square': [17_250_000, 2_2724_900, 603_628, 207_595,],\n",
    "},\n",
    "    index=['RU', 'KZ', 'UA', 'BY',]\n",
    ")\n",
    "df"
   ]
  },
  {
   "cell_type": "code",
   "execution_count": 139,
   "metadata": {
    "pycharm": {
     "name": "#%%\n"
    }
   },
   "outputs": [
    {
     "data": {
      "text/plain": "Index(['RU', 'KZ', 'UA', 'BY'], dtype='object')"
     },
     "execution_count": 139,
     "metadata": {},
     "output_type": "execute_result"
    }
   ],
   "source": [
    "df.index"
   ]
  },
  {
   "cell_type": "code",
   "execution_count": 140,
   "metadata": {
    "pycharm": {
     "name": "#%%\n"
    }
   },
   "outputs": [
    {
     "data": {
      "text/plain": "Index(['RU', 'KZ', 'UA', 'BY'], dtype='object', name='Country code')"
     },
     "execution_count": 140,
     "metadata": {},
     "output_type": "execute_result"
    }
   ],
   "source": [
    "df.index.name = 'Country code'\n",
    "df.index"
   ]
  },
  {
   "cell_type": "code",
   "execution_count": 141,
   "metadata": {
    "pycharm": {
     "name": "#%%\n"
    }
   },
   "outputs": [
    {
     "name": "stdout",
     "output_type": "stream",
     "text": [
      "Country code\n",
      "RU        Russia\n",
      "KZ    Kazakhstan\n",
      "UA       Ukraine\n",
      "BY       Belarus\n",
      "Name: country, dtype: object\n",
      "\n",
      "Country code\n",
      "RU    144.5\n",
      "KZ     18.3\n",
      "UA     42.6\n",
      "BY      9.7\n",
      "Name: population, dtype: float64\n",
      "\n",
      "Country code\n",
      "RU    17250000\n",
      "KZ    22724900\n",
      "UA      603628\n",
      "BY      207595\n",
      "Name: square, dtype: int64\n",
      "\n"
     ]
    }
   ],
   "source": [
    "print(df['country'], end='\\n\\n')\n",
    "print(df['population'],end='\\n\\n')\n",
    "print(df['square'],end='\\n\\n')"
   ]
  },
  {
   "cell_type": "code",
   "execution_count": 142,
   "metadata": {
    "pycharm": {
     "name": "#%%\n"
    }
   },
   "outputs": [
    {
     "data": {
      "text/plain": "country       Ukraine\npopulation       42.6\nsquare         603628\nName: UA, dtype: object"
     },
     "execution_count": 142,
     "metadata": {},
     "output_type": "execute_result"
    }
   ],
   "source": [
    "df.iloc[2]\n"
   ]
  },
  {
   "cell_type": "code",
   "execution_count": 143,
   "metadata": {
    "pycharm": {
     "name": "#%%\n"
    }
   },
   "outputs": [
    {
     "data": {
      "text/plain": "Country code\nRU    144.5\nBY      9.7\nName: population, dtype: float64"
     },
     "execution_count": 143,
     "metadata": {},
     "output_type": "execute_result"
    }
   ],
   "source": [
    "df['population'][['RU', 'BY']]\n"
   ]
  },
  {
   "cell_type": "code",
   "execution_count": 144,
   "metadata": {
    "pycharm": {
     "name": "#%%\n"
    }
   },
   "outputs": [
    {
     "data": {
      "text/plain": "                 country  population    square\nCountry code                                  \nRU                Russia       144.5  17250000\nKZ            Kazakhstan        18.3  22724900\nUA               Ukraine        42.6    603628",
      "text/html": "<div>\n<style scoped>\n    .dataframe tbody tr th:only-of-type {\n        vertical-align: middle;\n    }\n\n    .dataframe tbody tr th {\n        vertical-align: top;\n    }\n\n    .dataframe thead th {\n        text-align: right;\n    }\n</style>\n<table border=\"1\" class=\"dataframe\">\n  <thead>\n    <tr style=\"text-align: right;\">\n      <th></th>\n      <th>country</th>\n      <th>population</th>\n      <th>square</th>\n    </tr>\n    <tr>\n      <th>Country code</th>\n      <th></th>\n      <th></th>\n      <th></th>\n    </tr>\n  </thead>\n  <tbody>\n    <tr>\n      <th>RU</th>\n      <td>Russia</td>\n      <td>144.5</td>\n      <td>17250000</td>\n    </tr>\n    <tr>\n      <th>KZ</th>\n      <td>Kazakhstan</td>\n      <td>18.3</td>\n      <td>22724900</td>\n    </tr>\n    <tr>\n      <th>UA</th>\n      <td>Ukraine</td>\n      <td>42.6</td>\n      <td>603628</td>\n    </tr>\n  </tbody>\n</table>\n</div>"
     },
     "execution_count": 144,
     "metadata": {},
     "output_type": "execute_result"
    }
   ],
   "source": [
    "df.loc['RU':'UA']"
   ]
  },
  {
   "cell_type": "code",
   "execution_count": 145,
   "metadata": {
    "pycharm": {
     "name": "#%%\n"
    }
   },
   "outputs": [
    {
     "data": {
      "text/plain": "                 country  population    square\nCountry code                                  \nKZ            Kazakhstan        18.3  22724900\nUA               Ukraine        42.6    603628\nBY               Belarus         9.7    207595",
      "text/html": "<div>\n<style scoped>\n    .dataframe tbody tr th:only-of-type {\n        vertical-align: middle;\n    }\n\n    .dataframe tbody tr th {\n        vertical-align: top;\n    }\n\n    .dataframe thead th {\n        text-align: right;\n    }\n</style>\n<table border=\"1\" class=\"dataframe\">\n  <thead>\n    <tr style=\"text-align: right;\">\n      <th></th>\n      <th>country</th>\n      <th>population</th>\n      <th>square</th>\n    </tr>\n    <tr>\n      <th>Country code</th>\n      <th></th>\n      <th></th>\n      <th></th>\n    </tr>\n  </thead>\n  <tbody>\n    <tr>\n      <th>KZ</th>\n      <td>Kazakhstan</td>\n      <td>18.3</td>\n      <td>22724900</td>\n    </tr>\n    <tr>\n      <th>UA</th>\n      <td>Ukraine</td>\n      <td>42.6</td>\n      <td>603628</td>\n    </tr>\n    <tr>\n      <th>BY</th>\n      <td>Belarus</td>\n      <td>9.7</td>\n      <td>207595</td>\n    </tr>\n  </tbody>\n</table>\n</div>"
     },
     "execution_count": 145,
     "metadata": {},
     "output_type": "execute_result"
    }
   ],
   "source": [
    "df.loc['KZ':]"
   ]
  },
  {
   "cell_type": "code",
   "execution_count": 146,
   "metadata": {
    "pycharm": {
     "name": "#%%\n"
    }
   },
   "outputs": [
    {
     "data": {
      "text/plain": "Country code\nKZ    22724900\nUA      603628\nBY      207595\nName: square, dtype: int64"
     },
     "execution_count": 146,
     "metadata": {},
     "output_type": "execute_result"
    }
   ],
   "source": [
    "df.loc['KZ':, 'square']"
   ]
  },
  {
   "cell_type": "code",
   "execution_count": 147,
   "metadata": {
    "pycharm": {
     "name": "#%%\n"
    }
   },
   "outputs": [
    {
     "data": {
      "text/plain": "Country code\nRU    144.5\nKZ     18.3\nUA     42.6\nBY      9.7\nName: population, dtype: float64"
     },
     "execution_count": 147,
     "metadata": {},
     "output_type": "execute_result"
    }
   ],
   "source": [
    "df.population"
   ]
  },
  {
   "cell_type": "code",
   "execution_count": 148,
   "metadata": {
    "pycharm": {
     "name": "#%%\n"
    }
   },
   "outputs": [
    {
     "data": {
      "text/plain": "<bound method NDFrame.squeeze of                  country  population    square\nCountry code                                  \nRU                Russia       144.5  17250000\nKZ            Kazakhstan        18.3  22724900\nUA               Ukraine        42.6    603628\nBY               Belarus         9.7    207595>"
     },
     "execution_count": 148,
     "metadata": {},
     "output_type": "execute_result"
    }
   ],
   "source": [
    "df.squeeze\n"
   ]
  },
  {
   "cell_type": "code",
   "execution_count": 149,
   "metadata": {
    "pycharm": {
     "name": "#%%\n"
    }
   },
   "outputs": [
    {
     "data": {
      "text/plain": "Country code\nRU        Russia\nKZ    Kazakhstan\nUA       Ukraine\nBY       Belarus\nName: country, dtype: object"
     },
     "execution_count": 149,
     "metadata": {},
     "output_type": "execute_result"
    }
   ],
   "source": [
    "df.country"
   ]
  },
  {
   "cell_type": "code",
   "execution_count": 150,
   "metadata": {
    "pycharm": {
     "name": "#%%\n"
    }
   },
   "outputs": [
    {
     "data": {
      "text/plain": "Country code\nRU     True\nKZ    False\nUA     True\nBY    False\nName: population, dtype: bool"
     },
     "execution_count": 150,
     "metadata": {},
     "output_type": "execute_result"
    }
   ],
   "source": [
    "df.population > 40"
   ]
  },
  {
   "cell_type": "markdown",
   "metadata": {
    "pycharm": {
     "name": "#%% md\n"
    }
   },
   "source": [
    "### cрезы:"
   ]
  },
  {
   "cell_type": "code",
   "execution_count": 151,
   "metadata": {
    "pycharm": {
     "name": "#%%\n"
    }
   },
   "outputs": [
    {
     "data": {
      "text/plain": "              country  population    square\nCountry code                               \nRU             Russia       144.5  17250000\nUA            Ukraine        42.6    603628",
      "text/html": "<div>\n<style scoped>\n    .dataframe tbody tr th:only-of-type {\n        vertical-align: middle;\n    }\n\n    .dataframe tbody tr th {\n        vertical-align: top;\n    }\n\n    .dataframe thead th {\n        text-align: right;\n    }\n</style>\n<table border=\"1\" class=\"dataframe\">\n  <thead>\n    <tr style=\"text-align: right;\">\n      <th></th>\n      <th>country</th>\n      <th>population</th>\n      <th>square</th>\n    </tr>\n    <tr>\n      <th>Country code</th>\n      <th></th>\n      <th></th>\n      <th></th>\n    </tr>\n  </thead>\n  <tbody>\n    <tr>\n      <th>RU</th>\n      <td>Russia</td>\n      <td>144.5</td>\n      <td>17250000</td>\n    </tr>\n    <tr>\n      <th>UA</th>\n      <td>Ukraine</td>\n      <td>42.6</td>\n      <td>603628</td>\n    </tr>\n  </tbody>\n</table>\n</div>"
     },
     "execution_count": 151,
     "metadata": {},
     "output_type": "execute_result"
    }
   ],
   "source": [
    "df[df.population > 40]"
   ]
  },
  {
   "cell_type": "code",
   "execution_count": 152,
   "metadata": {
    "pycharm": {
     "name": "#%%\n"
    }
   },
   "outputs": [
    {
     "data": {
      "text/plain": "              country    square\nCountry code                   \nRU             Russia  17250000\nUA            Ukraine    603628",
      "text/html": "<div>\n<style scoped>\n    .dataframe tbody tr th:only-of-type {\n        vertical-align: middle;\n    }\n\n    .dataframe tbody tr th {\n        vertical-align: top;\n    }\n\n    .dataframe thead th {\n        text-align: right;\n    }\n</style>\n<table border=\"1\" class=\"dataframe\">\n  <thead>\n    <tr style=\"text-align: right;\">\n      <th></th>\n      <th>country</th>\n      <th>square</th>\n    </tr>\n    <tr>\n      <th>Country code</th>\n      <th></th>\n      <th></th>\n    </tr>\n  </thead>\n  <tbody>\n    <tr>\n      <th>RU</th>\n      <td>Russia</td>\n      <td>17250000</td>\n    </tr>\n    <tr>\n      <th>UA</th>\n      <td>Ukraine</td>\n      <td>603628</td>\n    </tr>\n  </tbody>\n</table>\n</div>"
     },
     "execution_count": 152,
     "metadata": {},
     "output_type": "execute_result"
    }
   ],
   "source": [
    "df[df.population > 40][['country', 'square']]\n"
   ]
  },
  {
   "cell_type": "code",
   "execution_count": 153,
   "metadata": {
    "pycharm": {
     "name": "#%%\n"
    }
   },
   "outputs": [],
   "source": [
    "\n",
    "df['density'] = df.population * 1_000_000 / df.square"
   ]
  },
  {
   "cell_type": "code",
   "execution_count": 154,
   "metadata": {
    "pycharm": {
     "name": "#%%\n"
    }
   },
   "outputs": [
    {
     "data": {
      "text/plain": "                 country  population    square    density\nCountry code                                             \nRU                Russia       144.5  17250000   8.376812\nKZ            Kazakhstan        18.3  22724900   0.805284\nUA               Ukraine        42.6    603628  70.573267\nBY               Belarus         9.7    207595  46.725596",
      "text/html": "<div>\n<style scoped>\n    .dataframe tbody tr th:only-of-type {\n        vertical-align: middle;\n    }\n\n    .dataframe tbody tr th {\n        vertical-align: top;\n    }\n\n    .dataframe thead th {\n        text-align: right;\n    }\n</style>\n<table border=\"1\" class=\"dataframe\">\n  <thead>\n    <tr style=\"text-align: right;\">\n      <th></th>\n      <th>country</th>\n      <th>population</th>\n      <th>square</th>\n      <th>density</th>\n    </tr>\n    <tr>\n      <th>Country code</th>\n      <th></th>\n      <th></th>\n      <th></th>\n      <th></th>\n    </tr>\n  </thead>\n  <tbody>\n    <tr>\n      <th>RU</th>\n      <td>Russia</td>\n      <td>144.5</td>\n      <td>17250000</td>\n      <td>8.376812</td>\n    </tr>\n    <tr>\n      <th>KZ</th>\n      <td>Kazakhstan</td>\n      <td>18.3</td>\n      <td>22724900</td>\n      <td>0.805284</td>\n    </tr>\n    <tr>\n      <th>UA</th>\n      <td>Ukraine</td>\n      <td>42.6</td>\n      <td>603628</td>\n      <td>70.573267</td>\n    </tr>\n    <tr>\n      <th>BY</th>\n      <td>Belarus</td>\n      <td>9.7</td>\n      <td>207595</td>\n      <td>46.725596</td>\n    </tr>\n  </tbody>\n</table>\n</div>"
     },
     "execution_count": 154,
     "metadata": {},
     "output_type": "execute_result"
    }
   ],
   "source": [
    "df"
   ]
  },
  {
   "cell_type": "markdown",
   "metadata": {
    "pycharm": {
     "name": "#%% md\n"
    }
   },
   "source": [
    "Удаление\n"
   ]
  },
  {
   "cell_type": "code",
   "execution_count": 155,
   "metadata": {
    "pycharm": {
     "name": "#%%\n"
    }
   },
   "outputs": [
    {
     "data": {
      "text/plain": "                 country  population    square\nCountry code                                  \nRU                Russia       144.5  17250000\nKZ            Kazakhstan        18.3  22724900\nUA               Ukraine        42.6    603628\nBY               Belarus         9.7    207595",
      "text/html": "<div>\n<style scoped>\n    .dataframe tbody tr th:only-of-type {\n        vertical-align: middle;\n    }\n\n    .dataframe tbody tr th {\n        vertical-align: top;\n    }\n\n    .dataframe thead th {\n        text-align: right;\n    }\n</style>\n<table border=\"1\" class=\"dataframe\">\n  <thead>\n    <tr style=\"text-align: right;\">\n      <th></th>\n      <th>country</th>\n      <th>population</th>\n      <th>square</th>\n    </tr>\n    <tr>\n      <th>Country code</th>\n      <th></th>\n      <th></th>\n      <th></th>\n    </tr>\n  </thead>\n  <tbody>\n    <tr>\n      <th>RU</th>\n      <td>Russia</td>\n      <td>144.5</td>\n      <td>17250000</td>\n    </tr>\n    <tr>\n      <th>KZ</th>\n      <td>Kazakhstan</td>\n      <td>18.3</td>\n      <td>22724900</td>\n    </tr>\n    <tr>\n      <th>UA</th>\n      <td>Ukraine</td>\n      <td>42.6</td>\n      <td>603628</td>\n    </tr>\n    <tr>\n      <th>BY</th>\n      <td>Belarus</td>\n      <td>9.7</td>\n      <td>207595</td>\n    </tr>\n  </tbody>\n</table>\n</div>"
     },
     "execution_count": 155,
     "metadata": {},
     "output_type": "execute_result"
    }
   ],
   "source": [
    "# дропнуть сам объект\n",
    "\n",
    "del df['density']\n",
    "df\n"
   ]
  },
  {
   "cell_type": "code",
   "execution_count": 156,
   "metadata": {
    "pycharm": {
     "name": "#%%\n"
    }
   },
   "outputs": [],
   "source": [
    "df['density'] = df.population * 1_000_000 / df.square"
   ]
  },
  {
   "cell_type": "markdown",
   "metadata": {
    "pycharm": {
     "name": "#%% md\n"
    }
   },
   "source": [
    "Или другой вариант"
   ]
  },
  {
   "cell_type": "code",
   "execution_count": 157,
   "metadata": {
    "pycharm": {
     "name": "#%%\n"
    }
   },
   "outputs": [
    {
     "data": {
      "text/plain": "                 country  population    square\nCountry code                                  \nRU                Russia       144.5  17250000\nKZ            Kazakhstan        18.3  22724900\nUA               Ukraine        42.6    603628\nBY               Belarus         9.7    207595",
      "text/html": "<div>\n<style scoped>\n    .dataframe tbody tr th:only-of-type {\n        vertical-align: middle;\n    }\n\n    .dataframe tbody tr th {\n        vertical-align: top;\n    }\n\n    .dataframe thead th {\n        text-align: right;\n    }\n</style>\n<table border=\"1\" class=\"dataframe\">\n  <thead>\n    <tr style=\"text-align: right;\">\n      <th></th>\n      <th>country</th>\n      <th>population</th>\n      <th>square</th>\n    </tr>\n    <tr>\n      <th>Country code</th>\n      <th></th>\n      <th></th>\n      <th></th>\n    </tr>\n  </thead>\n  <tbody>\n    <tr>\n      <th>RU</th>\n      <td>Russia</td>\n      <td>144.5</td>\n      <td>17250000</td>\n    </tr>\n    <tr>\n      <th>KZ</th>\n      <td>Kazakhstan</td>\n      <td>18.3</td>\n      <td>22724900</td>\n    </tr>\n    <tr>\n      <th>UA</th>\n      <td>Ukraine</td>\n      <td>42.6</td>\n      <td>603628</td>\n    </tr>\n    <tr>\n      <th>BY</th>\n      <td>Belarus</td>\n      <td>9.7</td>\n      <td>207595</td>\n    </tr>\n  </tbody>\n</table>\n</div>"
     },
     "execution_count": 157,
     "metadata": {},
     "output_type": "execute_result"
    }
   ],
   "source": [
    "# создается новый объект без удаления\n",
    "df.drop(['density'], axis='columns')\n"
   ]
  },
  {
   "cell_type": "markdown",
   "metadata": {
    "pycharm": {
     "name": "#%% md\n"
    }
   },
   "source": [
    "### Работа с CSV"
   ]
  },
  {
   "cell_type": "markdown",
   "metadata": {},
   "source": [
    "Сохранение фрейма в csv"
   ]
  },
  {
   "cell_type": "code",
   "execution_count": 158,
   "metadata": {
    "pycharm": {
     "name": "#%%\n"
    }
   },
   "outputs": [],
   "source": [
    "countries_filename = 'countries_data.csv'\n",
    "df.to_csv(countries_filename)"
   ]
  },
  {
   "cell_type": "markdown",
   "metadata": {
    "pycharm": {
     "name": "#%% md\n"
    }
   },
   "source": [
    "Загрузка фрейма из csv"
   ]
  },
  {
   "cell_type": "code",
   "execution_count": 159,
   "metadata": {},
   "outputs": [
    {
     "data": {
      "text/plain": "  Country code     country  population    square    density\n0           RU      Russia       144.5  17250000   8.376812\n1           KZ  Kazakhstan        18.3  22724900   0.805284\n2           UA     Ukraine        42.6    603628  70.573267\n3           BY     Belarus         9.7    207595  46.725596",
      "text/html": "<div>\n<style scoped>\n    .dataframe tbody tr th:only-of-type {\n        vertical-align: middle;\n    }\n\n    .dataframe tbody tr th {\n        vertical-align: top;\n    }\n\n    .dataframe thead th {\n        text-align: right;\n    }\n</style>\n<table border=\"1\" class=\"dataframe\">\n  <thead>\n    <tr style=\"text-align: right;\">\n      <th></th>\n      <th>Country code</th>\n      <th>country</th>\n      <th>population</th>\n      <th>square</th>\n      <th>density</th>\n    </tr>\n  </thead>\n  <tbody>\n    <tr>\n      <th>0</th>\n      <td>RU</td>\n      <td>Russia</td>\n      <td>144.5</td>\n      <td>17250000</td>\n      <td>8.376812</td>\n    </tr>\n    <tr>\n      <th>1</th>\n      <td>KZ</td>\n      <td>Kazakhstan</td>\n      <td>18.3</td>\n      <td>22724900</td>\n      <td>0.805284</td>\n    </tr>\n    <tr>\n      <th>2</th>\n      <td>UA</td>\n      <td>Ukraine</td>\n      <td>42.6</td>\n      <td>603628</td>\n      <td>70.573267</td>\n    </tr>\n    <tr>\n      <th>3</th>\n      <td>BY</td>\n      <td>Belarus</td>\n      <td>9.7</td>\n      <td>207595</td>\n      <td>46.725596</td>\n    </tr>\n  </tbody>\n</table>\n</div>"
     },
     "execution_count": 159,
     "metadata": {},
     "output_type": "execute_result"
    }
   ],
   "source": [
    "dfn = pd.read_csv(countries_filename)\n",
    "dfn"
   ]
  },
  {
   "cell_type": "markdown",
   "metadata": {
    "pycharm": {
     "name": "#%% md\n"
    }
   },
   "source": [
    "без индексов"
   ]
  },
  {
   "cell_type": "code",
   "execution_count": 160,
   "metadata": {
    "pycharm": {
     "name": "#%%\n"
    }
   },
   "outputs": [
    {
     "data": {
      "text/plain": "                 country  population    square    density\nCountry code                                             \nRU                Russia       144.5  17250000   8.376812\nKZ            Kazakhstan        18.3  22724900   0.805284\nUA               Ukraine        42.6    603628  70.573267\nBY               Belarus         9.7    207595  46.725596",
      "text/html": "<div>\n<style scoped>\n    .dataframe tbody tr th:only-of-type {\n        vertical-align: middle;\n    }\n\n    .dataframe tbody tr th {\n        vertical-align: top;\n    }\n\n    .dataframe thead th {\n        text-align: right;\n    }\n</style>\n<table border=\"1\" class=\"dataframe\">\n  <thead>\n    <tr style=\"text-align: right;\">\n      <th></th>\n      <th>country</th>\n      <th>population</th>\n      <th>square</th>\n      <th>density</th>\n    </tr>\n    <tr>\n      <th>Country code</th>\n      <th></th>\n      <th></th>\n      <th></th>\n      <th></th>\n    </tr>\n  </thead>\n  <tbody>\n    <tr>\n      <th>RU</th>\n      <td>Russia</td>\n      <td>144.5</td>\n      <td>17250000</td>\n      <td>8.376812</td>\n    </tr>\n    <tr>\n      <th>KZ</th>\n      <td>Kazakhstan</td>\n      <td>18.3</td>\n      <td>22724900</td>\n      <td>0.805284</td>\n    </tr>\n    <tr>\n      <th>UA</th>\n      <td>Ukraine</td>\n      <td>42.6</td>\n      <td>603628</td>\n      <td>70.573267</td>\n    </tr>\n    <tr>\n      <th>BY</th>\n      <td>Belarus</td>\n      <td>9.7</td>\n      <td>207595</td>\n      <td>46.725596</td>\n    </tr>\n  </tbody>\n</table>\n</div>"
     },
     "execution_count": 160,
     "metadata": {},
     "output_type": "execute_result"
    }
   ],
   "source": [
    "dfn = pd.read_csv(countries_filename, index_col=0)\n",
    "dfn"
   ]
  },
  {
   "cell_type": "markdown",
   "metadata": {
    "pycharm": {
     "name": "#%% md\n"
    }
   },
   "source": [
    "Привести к NumPy"
   ]
  },
  {
   "cell_type": "code",
   "execution_count": 161,
   "metadata": {
    "pycharm": {
     "name": "#%%\n"
    }
   },
   "outputs": [
    {
     "data": {
      "text/plain": "array([['Russia', 144.5, 17250000, 8.376811594202898],\n       ['Kazakhstan', 18.3, 22724900, 0.805284071657081],\n       ['Ukraine', 42.6, 603628, 70.57326697900031],\n       ['Belarus', 9.7, 207595, 46.72559551048917]], dtype=object)"
     },
     "execution_count": 161,
     "metadata": {},
     "output_type": "execute_result"
    }
   ],
   "source": [
    "dfn.to_numpy()"
   ]
  },
  {
   "cell_type": "markdown",
   "metadata": {
    "pycharm": {
     "name": "#%% md\n"
    }
   },
   "source": [
    "### Data science"
   ]
  },
  {
   "cell_type": "code",
   "execution_count": 162,
   "metadata": {
    "pycharm": {
     "name": "#%%\n"
    }
   },
   "outputs": [
    {
     "data": {
      "text/plain": "      PassengerID                                           Name PClass  \\\n0               1                   Allen, Miss Elisabeth Walton    1st   \n1               2                    Allison, Miss Helen Loraine    1st   \n2               3            Allison, Mr Hudson Joshua Creighton    1st   \n3               4  Allison, Mrs Hudson JC (Bessie Waldo Daniels)    1st   \n4               5                  Allison, Master Hudson Trevor    1st   \n...           ...                                            ...    ...   \n1308         1309                             Zakarian, Mr Artun    3rd   \n1309         1310                         Zakarian, Mr Maprieder    3rd   \n1310         1311                               Zenni, Mr Philip    3rd   \n1311         1312                               Lievens, Mr Rene    3rd   \n1312         1313                                 Zimmerman, Leo    3rd   \n\n        Age     Sex  Survived  SexCode  \n0     29.00  female         1        1  \n1      2.00  female         0        1  \n2     30.00    male         0        0  \n3     25.00  female         0        1  \n4      0.92    male         1        0  \n...     ...     ...       ...      ...  \n1308  27.00    male         0        0  \n1309  26.00    male         0        0  \n1310  22.00    male         0        0  \n1311  24.00    male         0        0  \n1312  29.00    male         0        0  \n\n[1313 rows x 7 columns]",
      "text/html": "<div>\n<style scoped>\n    .dataframe tbody tr th:only-of-type {\n        vertical-align: middle;\n    }\n\n    .dataframe tbody tr th {\n        vertical-align: top;\n    }\n\n    .dataframe thead th {\n        text-align: right;\n    }\n</style>\n<table border=\"1\" class=\"dataframe\">\n  <thead>\n    <tr style=\"text-align: right;\">\n      <th></th>\n      <th>PassengerID</th>\n      <th>Name</th>\n      <th>PClass</th>\n      <th>Age</th>\n      <th>Sex</th>\n      <th>Survived</th>\n      <th>SexCode</th>\n    </tr>\n  </thead>\n  <tbody>\n    <tr>\n      <th>0</th>\n      <td>1</td>\n      <td>Allen, Miss Elisabeth Walton</td>\n      <td>1st</td>\n      <td>29.00</td>\n      <td>female</td>\n      <td>1</td>\n      <td>1</td>\n    </tr>\n    <tr>\n      <th>1</th>\n      <td>2</td>\n      <td>Allison, Miss Helen Loraine</td>\n      <td>1st</td>\n      <td>2.00</td>\n      <td>female</td>\n      <td>0</td>\n      <td>1</td>\n    </tr>\n    <tr>\n      <th>2</th>\n      <td>3</td>\n      <td>Allison, Mr Hudson Joshua Creighton</td>\n      <td>1st</td>\n      <td>30.00</td>\n      <td>male</td>\n      <td>0</td>\n      <td>0</td>\n    </tr>\n    <tr>\n      <th>3</th>\n      <td>4</td>\n      <td>Allison, Mrs Hudson JC (Bessie Waldo Daniels)</td>\n      <td>1st</td>\n      <td>25.00</td>\n      <td>female</td>\n      <td>0</td>\n      <td>1</td>\n    </tr>\n    <tr>\n      <th>4</th>\n      <td>5</td>\n      <td>Allison, Master Hudson Trevor</td>\n      <td>1st</td>\n      <td>0.92</td>\n      <td>male</td>\n      <td>1</td>\n      <td>0</td>\n    </tr>\n    <tr>\n      <th>...</th>\n      <td>...</td>\n      <td>...</td>\n      <td>...</td>\n      <td>...</td>\n      <td>...</td>\n      <td>...</td>\n      <td>...</td>\n    </tr>\n    <tr>\n      <th>1308</th>\n      <td>1309</td>\n      <td>Zakarian, Mr Artun</td>\n      <td>3rd</td>\n      <td>27.00</td>\n      <td>male</td>\n      <td>0</td>\n      <td>0</td>\n    </tr>\n    <tr>\n      <th>1309</th>\n      <td>1310</td>\n      <td>Zakarian, Mr Maprieder</td>\n      <td>3rd</td>\n      <td>26.00</td>\n      <td>male</td>\n      <td>0</td>\n      <td>0</td>\n    </tr>\n    <tr>\n      <th>1310</th>\n      <td>1311</td>\n      <td>Zenni, Mr Philip</td>\n      <td>3rd</td>\n      <td>22.00</td>\n      <td>male</td>\n      <td>0</td>\n      <td>0</td>\n    </tr>\n    <tr>\n      <th>1311</th>\n      <td>1312</td>\n      <td>Lievens, Mr Rene</td>\n      <td>3rd</td>\n      <td>24.00</td>\n      <td>male</td>\n      <td>0</td>\n      <td>0</td>\n    </tr>\n    <tr>\n      <th>1312</th>\n      <td>1313</td>\n      <td>Zimmerman, Leo</td>\n      <td>3rd</td>\n      <td>29.00</td>\n      <td>male</td>\n      <td>0</td>\n      <td>0</td>\n    </tr>\n  </tbody>\n</table>\n<p>1313 rows × 7 columns</p>\n</div>"
     },
     "execution_count": 162,
     "metadata": {},
     "output_type": "execute_result"
    }
   ],
   "source": [
    "titanic = pd.read_csv('titanic.csv')\n",
    "titanic\n"
   ]
  },
  {
   "cell_type": "code",
   "execution_count": 163,
   "metadata": {},
   "outputs": [
    {
     "data": {
      "text/plain": "   PassengerID                                           Name PClass    Age  \\\n0            1                   Allen, Miss Elisabeth Walton    1st  29.00   \n1            2                    Allison, Miss Helen Loraine    1st   2.00   \n2            3            Allison, Mr Hudson Joshua Creighton    1st  30.00   \n3            4  Allison, Mrs Hudson JC (Bessie Waldo Daniels)    1st  25.00   \n4            5                  Allison, Master Hudson Trevor    1st   0.92   \n5            6                             Anderson, Mr Harry    1st  47.00   \n6            7               Andrews, Miss Kornelia Theodosia    1st  63.00   \n7            8                         Andrews, Mr Thomas, jr    1st  39.00   \n8            9   Appleton, Mrs Edward Dale (Charlotte Lamson)    1st  58.00   \n9           10                         Artagaveytia, Mr Ramon    1st  71.00   \n\n      Sex  Survived  SexCode  \n0  female         1        1  \n1  female         0        1  \n2    male         0        0  \n3  female         0        1  \n4    male         1        0  \n5    male         1        0  \n6  female         1        1  \n7    male         0        0  \n8  female         1        1  \n9    male         0        0  ",
      "text/html": "<div>\n<style scoped>\n    .dataframe tbody tr th:only-of-type {\n        vertical-align: middle;\n    }\n\n    .dataframe tbody tr th {\n        vertical-align: top;\n    }\n\n    .dataframe thead th {\n        text-align: right;\n    }\n</style>\n<table border=\"1\" class=\"dataframe\">\n  <thead>\n    <tr style=\"text-align: right;\">\n      <th></th>\n      <th>PassengerID</th>\n      <th>Name</th>\n      <th>PClass</th>\n      <th>Age</th>\n      <th>Sex</th>\n      <th>Survived</th>\n      <th>SexCode</th>\n    </tr>\n  </thead>\n  <tbody>\n    <tr>\n      <th>0</th>\n      <td>1</td>\n      <td>Allen, Miss Elisabeth Walton</td>\n      <td>1st</td>\n      <td>29.00</td>\n      <td>female</td>\n      <td>1</td>\n      <td>1</td>\n    </tr>\n    <tr>\n      <th>1</th>\n      <td>2</td>\n      <td>Allison, Miss Helen Loraine</td>\n      <td>1st</td>\n      <td>2.00</td>\n      <td>female</td>\n      <td>0</td>\n      <td>1</td>\n    </tr>\n    <tr>\n      <th>2</th>\n      <td>3</td>\n      <td>Allison, Mr Hudson Joshua Creighton</td>\n      <td>1st</td>\n      <td>30.00</td>\n      <td>male</td>\n      <td>0</td>\n      <td>0</td>\n    </tr>\n    <tr>\n      <th>3</th>\n      <td>4</td>\n      <td>Allison, Mrs Hudson JC (Bessie Waldo Daniels)</td>\n      <td>1st</td>\n      <td>25.00</td>\n      <td>female</td>\n      <td>0</td>\n      <td>1</td>\n    </tr>\n    <tr>\n      <th>4</th>\n      <td>5</td>\n      <td>Allison, Master Hudson Trevor</td>\n      <td>1st</td>\n      <td>0.92</td>\n      <td>male</td>\n      <td>1</td>\n      <td>0</td>\n    </tr>\n    <tr>\n      <th>5</th>\n      <td>6</td>\n      <td>Anderson, Mr Harry</td>\n      <td>1st</td>\n      <td>47.00</td>\n      <td>male</td>\n      <td>1</td>\n      <td>0</td>\n    </tr>\n    <tr>\n      <th>6</th>\n      <td>7</td>\n      <td>Andrews, Miss Kornelia Theodosia</td>\n      <td>1st</td>\n      <td>63.00</td>\n      <td>female</td>\n      <td>1</td>\n      <td>1</td>\n    </tr>\n    <tr>\n      <th>7</th>\n      <td>8</td>\n      <td>Andrews, Mr Thomas, jr</td>\n      <td>1st</td>\n      <td>39.00</td>\n      <td>male</td>\n      <td>0</td>\n      <td>0</td>\n    </tr>\n    <tr>\n      <th>8</th>\n      <td>9</td>\n      <td>Appleton, Mrs Edward Dale (Charlotte Lamson)</td>\n      <td>1st</td>\n      <td>58.00</td>\n      <td>female</td>\n      <td>1</td>\n      <td>1</td>\n    </tr>\n    <tr>\n      <th>9</th>\n      <td>10</td>\n      <td>Artagaveytia, Mr Ramon</td>\n      <td>1st</td>\n      <td>71.00</td>\n      <td>male</td>\n      <td>0</td>\n      <td>0</td>\n    </tr>\n  </tbody>\n</table>\n</div>"
     },
     "execution_count": 163,
     "metadata": {},
     "output_type": "execute_result"
    }
   ],
   "source": [
    "titanic.head(10)"
   ]
  },
  {
   "cell_type": "code",
   "execution_count": 164,
   "metadata": {},
   "outputs": [
    {
     "data": {
      "text/plain": "      PassengerID                     Name PClass   Age     Sex  Survived  \\\n1298         1299       Windelov, Mr Einar    3rd  21.0    male         0   \n1299         1300          Wirz, Mr Albert    3rd  27.0    male         0   \n1300         1301    Wiseman, Mr Phillippe    3rd   NaN    male         0   \n1301         1302  Wittevrongel, Mr Camiel    3rd  36.0    male         0   \n1302         1303        Yalsevac, Mr Ivan    3rd   NaN    male         1   \n1303         1304       Yasbeck, Mr Antoni    3rd  27.0    male         0   \n1304         1305      Yasbeck, Mrs Antoni    3rd  15.0  female         1   \n1305         1306       Youssef, Mr Gerios    3rd   NaN    male         0   \n1306         1307      Zabour, Miss Hileni    3rd   NaN  female         0   \n1307         1308      Zabour, Miss Tamini    3rd   NaN  female         0   \n1308         1309       Zakarian, Mr Artun    3rd  27.0    male         0   \n1309         1310   Zakarian, Mr Maprieder    3rd  26.0    male         0   \n1310         1311         Zenni, Mr Philip    3rd  22.0    male         0   \n1311         1312         Lievens, Mr Rene    3rd  24.0    male         0   \n1312         1313           Zimmerman, Leo    3rd  29.0    male         0   \n\n      SexCode  \n1298        0  \n1299        0  \n1300        0  \n1301        0  \n1302        0  \n1303        0  \n1304        1  \n1305        0  \n1306        1  \n1307        1  \n1308        0  \n1309        0  \n1310        0  \n1311        0  \n1312        0  ",
      "text/html": "<div>\n<style scoped>\n    .dataframe tbody tr th:only-of-type {\n        vertical-align: middle;\n    }\n\n    .dataframe tbody tr th {\n        vertical-align: top;\n    }\n\n    .dataframe thead th {\n        text-align: right;\n    }\n</style>\n<table border=\"1\" class=\"dataframe\">\n  <thead>\n    <tr style=\"text-align: right;\">\n      <th></th>\n      <th>PassengerID</th>\n      <th>Name</th>\n      <th>PClass</th>\n      <th>Age</th>\n      <th>Sex</th>\n      <th>Survived</th>\n      <th>SexCode</th>\n    </tr>\n  </thead>\n  <tbody>\n    <tr>\n      <th>1298</th>\n      <td>1299</td>\n      <td>Windelov, Mr Einar</td>\n      <td>3rd</td>\n      <td>21.0</td>\n      <td>male</td>\n      <td>0</td>\n      <td>0</td>\n    </tr>\n    <tr>\n      <th>1299</th>\n      <td>1300</td>\n      <td>Wirz, Mr Albert</td>\n      <td>3rd</td>\n      <td>27.0</td>\n      <td>male</td>\n      <td>0</td>\n      <td>0</td>\n    </tr>\n    <tr>\n      <th>1300</th>\n      <td>1301</td>\n      <td>Wiseman, Mr Phillippe</td>\n      <td>3rd</td>\n      <td>NaN</td>\n      <td>male</td>\n      <td>0</td>\n      <td>0</td>\n    </tr>\n    <tr>\n      <th>1301</th>\n      <td>1302</td>\n      <td>Wittevrongel, Mr Camiel</td>\n      <td>3rd</td>\n      <td>36.0</td>\n      <td>male</td>\n      <td>0</td>\n      <td>0</td>\n    </tr>\n    <tr>\n      <th>1302</th>\n      <td>1303</td>\n      <td>Yalsevac, Mr Ivan</td>\n      <td>3rd</td>\n      <td>NaN</td>\n      <td>male</td>\n      <td>1</td>\n      <td>0</td>\n    </tr>\n    <tr>\n      <th>1303</th>\n      <td>1304</td>\n      <td>Yasbeck, Mr Antoni</td>\n      <td>3rd</td>\n      <td>27.0</td>\n      <td>male</td>\n      <td>0</td>\n      <td>0</td>\n    </tr>\n    <tr>\n      <th>1304</th>\n      <td>1305</td>\n      <td>Yasbeck, Mrs Antoni</td>\n      <td>3rd</td>\n      <td>15.0</td>\n      <td>female</td>\n      <td>1</td>\n      <td>1</td>\n    </tr>\n    <tr>\n      <th>1305</th>\n      <td>1306</td>\n      <td>Youssef, Mr Gerios</td>\n      <td>3rd</td>\n      <td>NaN</td>\n      <td>male</td>\n      <td>0</td>\n      <td>0</td>\n    </tr>\n    <tr>\n      <th>1306</th>\n      <td>1307</td>\n      <td>Zabour, Miss Hileni</td>\n      <td>3rd</td>\n      <td>NaN</td>\n      <td>female</td>\n      <td>0</td>\n      <td>1</td>\n    </tr>\n    <tr>\n      <th>1307</th>\n      <td>1308</td>\n      <td>Zabour, Miss Tamini</td>\n      <td>3rd</td>\n      <td>NaN</td>\n      <td>female</td>\n      <td>0</td>\n      <td>1</td>\n    </tr>\n    <tr>\n      <th>1308</th>\n      <td>1309</td>\n      <td>Zakarian, Mr Artun</td>\n      <td>3rd</td>\n      <td>27.0</td>\n      <td>male</td>\n      <td>0</td>\n      <td>0</td>\n    </tr>\n    <tr>\n      <th>1309</th>\n      <td>1310</td>\n      <td>Zakarian, Mr Maprieder</td>\n      <td>3rd</td>\n      <td>26.0</td>\n      <td>male</td>\n      <td>0</td>\n      <td>0</td>\n    </tr>\n    <tr>\n      <th>1310</th>\n      <td>1311</td>\n      <td>Zenni, Mr Philip</td>\n      <td>3rd</td>\n      <td>22.0</td>\n      <td>male</td>\n      <td>0</td>\n      <td>0</td>\n    </tr>\n    <tr>\n      <th>1311</th>\n      <td>1312</td>\n      <td>Lievens, Mr Rene</td>\n      <td>3rd</td>\n      <td>24.0</td>\n      <td>male</td>\n      <td>0</td>\n      <td>0</td>\n    </tr>\n    <tr>\n      <th>1312</th>\n      <td>1313</td>\n      <td>Zimmerman, Leo</td>\n      <td>3rd</td>\n      <td>29.0</td>\n      <td>male</td>\n      <td>0</td>\n      <td>0</td>\n    </tr>\n  </tbody>\n</table>\n</div>"
     },
     "execution_count": 164,
     "metadata": {},
     "output_type": "execute_result"
    }
   ],
   "source": [
    "titanic.tail(15)"
   ]
  },
  {
   "cell_type": "code",
   "execution_count": 165,
   "metadata": {},
   "outputs": [
    {
     "data": {
      "text/plain": "                 PassengerID  Name  PClass  Age  SexCode\nSex    Survived                                         \nfemale 0                 154   154     154   71      154\n       1                 308   308     308  217      308\nmale   0                 709   709     709  372      709\n       1                 142   142     142   96      142",
      "text/html": "<div>\n<style scoped>\n    .dataframe tbody tr th:only-of-type {\n        vertical-align: middle;\n    }\n\n    .dataframe tbody tr th {\n        vertical-align: top;\n    }\n\n    .dataframe thead th {\n        text-align: right;\n    }\n</style>\n<table border=\"1\" class=\"dataframe\">\n  <thead>\n    <tr style=\"text-align: right;\">\n      <th></th>\n      <th></th>\n      <th>PassengerID</th>\n      <th>Name</th>\n      <th>PClass</th>\n      <th>Age</th>\n      <th>SexCode</th>\n    </tr>\n    <tr>\n      <th>Sex</th>\n      <th>Survived</th>\n      <th></th>\n      <th></th>\n      <th></th>\n      <th></th>\n      <th></th>\n    </tr>\n  </thead>\n  <tbody>\n    <tr>\n      <th rowspan=\"2\" valign=\"top\">female</th>\n      <th>0</th>\n      <td>154</td>\n      <td>154</td>\n      <td>154</td>\n      <td>71</td>\n      <td>154</td>\n    </tr>\n    <tr>\n      <th>1</th>\n      <td>308</td>\n      <td>308</td>\n      <td>308</td>\n      <td>217</td>\n      <td>308</td>\n    </tr>\n    <tr>\n      <th rowspan=\"2\" valign=\"top\">male</th>\n      <th>0</th>\n      <td>709</td>\n      <td>709</td>\n      <td>709</td>\n      <td>372</td>\n      <td>709</td>\n    </tr>\n    <tr>\n      <th>1</th>\n      <td>142</td>\n      <td>142</td>\n      <td>142</td>\n      <td>96</td>\n      <td>142</td>\n    </tr>\n  </tbody>\n</table>\n</div>"
     },
     "execution_count": 165,
     "metadata": {},
     "output_type": "execute_result"
    }
   ],
   "source": [
    "titanic.groupby(['Sex','Survived']).count()"
   ]
  },
  {
   "cell_type": "code",
   "execution_count": 166,
   "metadata": {
    "pycharm": {
     "name": "#%%\n"
    }
   },
   "outputs": [
    {
     "data": {
      "text/plain": "Sex     Survived\nfemale  0           154\n        1           308\nmale    0           709\n        1           142\nName: PassengerID, dtype: int64"
     },
     "execution_count": 166,
     "metadata": {},
     "output_type": "execute_result"
    }
   ],
   "source": [
    "titanic.groupby(['Sex','Survived'])['PassengerID'].count()"
   ]
  },
  {
   "cell_type": "code",
   "execution_count": 167,
   "metadata": {},
   "outputs": [
    {
     "data": {
      "text/plain": "PClass  Survived\n*       0             1\n1st     0           129\n        1           193\n2nd     0           160\n        1           119\n3rd     0           573\n        1           138\nName: PassengerID, dtype: int64"
     },
     "execution_count": 167,
     "metadata": {},
     "output_type": "execute_result"
    }
   ],
   "source": [
    "titanic.groupby(['PClass','Survived'])['PassengerID'].count()"
   ]
  },
  {
   "cell_type": "markdown",
   "metadata": {},
   "source": [
    "Сводная таблица"
   ]
  },
  {
   "cell_type": "code",
   "execution_count": 168,
   "metadata": {
    "scrolled": true
   },
   "outputs": [
    {
     "data": {
      "text/plain": "PClass    *    1st    2nd    3rd\nSex                             \nfemale  NaN  143.0  107.0  212.0\nmale    1.0  179.0  172.0  499.0",
      "text/html": "<div>\n<style scoped>\n    .dataframe tbody tr th:only-of-type {\n        vertical-align: middle;\n    }\n\n    .dataframe tbody tr th {\n        vertical-align: top;\n    }\n\n    .dataframe thead th {\n        text-align: right;\n    }\n</style>\n<table border=\"1\" class=\"dataframe\">\n  <thead>\n    <tr style=\"text-align: right;\">\n      <th>PClass</th>\n      <th>*</th>\n      <th>1st</th>\n      <th>2nd</th>\n      <th>3rd</th>\n    </tr>\n    <tr>\n      <th>Sex</th>\n      <th></th>\n      <th></th>\n      <th></th>\n      <th></th>\n    </tr>\n  </thead>\n  <tbody>\n    <tr>\n      <th>female</th>\n      <td>NaN</td>\n      <td>143.0</td>\n      <td>107.0</td>\n      <td>212.0</td>\n    </tr>\n    <tr>\n      <th>male</th>\n      <td>1.0</td>\n      <td>179.0</td>\n      <td>172.0</td>\n      <td>499.0</td>\n    </tr>\n  </tbody>\n</table>\n</div>"
     },
     "execution_count": 168,
     "metadata": {},
     "output_type": "execute_result"
    }
   ],
   "source": [
    "pvt = titanic.pivot_table(\n",
    "    index=['Sex'],\n",
    "    columns=['PClass'],\n",
    "    values='Name',\n",
    "    aggfunc='count',\n",
    ")\n",
    "pvt"
   ]
  },
  {
   "cell_type": "code",
   "execution_count": 169,
   "metadata": {},
   "outputs": [
    {
     "data": {
      "text/plain": "            AT0000A18XM4 SW  BE0974268972 BB  US0527691069 US  \\\n2014-01-14         0.184660         0.275706         0.303425   \n2014-01-15         0.225875         0.147861         0.151211   \n2014-01-16         0.261017         0.334213         0.293336   \n2014-01-17         0.160168         0.231034         0.092674   \n2014-01-18         0.057162         0.254146         0.027286   \n...                     ...              ...              ...   \n2018-02-28         0.123821         0.167899         0.120844   \n2018-03-01         0.035043         0.289624         0.220871   \n2018-03-02         0.397155         0.362025         0.050554   \n2018-03-03         0.319902         0.277405         0.051719   \n2018-03-06         0.057699         0.352290         0.291162   \n\n            DE0007164600 GR  US6092071058 US  \n2014-01-14         0.042841         0.193368  \n2014-01-15         0.224074         0.250978  \n2014-01-16         0.015744         0.095690  \n2014-01-17         0.269050         0.247074  \n2014-01-18         0.480660         0.180746  \n...                     ...              ...  \n2018-02-28         0.088780         0.498657  \n2018-03-01         0.136366         0.318096  \n2018-03-02         0.020247         0.170019  \n2018-03-03         0.008164         0.342810  \n2018-03-06         0.197700         0.101148  \n\n[1081 rows x 5 columns]",
      "text/html": "<div>\n<style scoped>\n    .dataframe tbody tr th:only-of-type {\n        vertical-align: middle;\n    }\n\n    .dataframe tbody tr th {\n        vertical-align: top;\n    }\n\n    .dataframe thead th {\n        text-align: right;\n    }\n</style>\n<table border=\"1\" class=\"dataframe\">\n  <thead>\n    <tr style=\"text-align: right;\">\n      <th></th>\n      <th>AT0000A18XM4 SW</th>\n      <th>BE0974268972 BB</th>\n      <th>US0527691069 US</th>\n      <th>DE0007164600 GR</th>\n      <th>US6092071058 US</th>\n    </tr>\n  </thead>\n  <tbody>\n    <tr>\n      <th>2014-01-14</th>\n      <td>0.184660</td>\n      <td>0.275706</td>\n      <td>0.303425</td>\n      <td>0.042841</td>\n      <td>0.193368</td>\n    </tr>\n    <tr>\n      <th>2014-01-15</th>\n      <td>0.225875</td>\n      <td>0.147861</td>\n      <td>0.151211</td>\n      <td>0.224074</td>\n      <td>0.250978</td>\n    </tr>\n    <tr>\n      <th>2014-01-16</th>\n      <td>0.261017</td>\n      <td>0.334213</td>\n      <td>0.293336</td>\n      <td>0.015744</td>\n      <td>0.095690</td>\n    </tr>\n    <tr>\n      <th>2014-01-17</th>\n      <td>0.160168</td>\n      <td>0.231034</td>\n      <td>0.092674</td>\n      <td>0.269050</td>\n      <td>0.247074</td>\n    </tr>\n    <tr>\n      <th>2014-01-18</th>\n      <td>0.057162</td>\n      <td>0.254146</td>\n      <td>0.027286</td>\n      <td>0.480660</td>\n      <td>0.180746</td>\n    </tr>\n    <tr>\n      <th>...</th>\n      <td>...</td>\n      <td>...</td>\n      <td>...</td>\n      <td>...</td>\n      <td>...</td>\n    </tr>\n    <tr>\n      <th>2018-02-28</th>\n      <td>0.123821</td>\n      <td>0.167899</td>\n      <td>0.120844</td>\n      <td>0.088780</td>\n      <td>0.498657</td>\n    </tr>\n    <tr>\n      <th>2018-03-01</th>\n      <td>0.035043</td>\n      <td>0.289624</td>\n      <td>0.220871</td>\n      <td>0.136366</td>\n      <td>0.318096</td>\n    </tr>\n    <tr>\n      <th>2018-03-02</th>\n      <td>0.397155</td>\n      <td>0.362025</td>\n      <td>0.050554</td>\n      <td>0.020247</td>\n      <td>0.170019</td>\n    </tr>\n    <tr>\n      <th>2018-03-03</th>\n      <td>0.319902</td>\n      <td>0.277405</td>\n      <td>0.051719</td>\n      <td>0.008164</td>\n      <td>0.342810</td>\n    </tr>\n    <tr>\n      <th>2018-03-06</th>\n      <td>0.057699</td>\n      <td>0.352290</td>\n      <td>0.291162</td>\n      <td>0.197700</td>\n      <td>0.101148</td>\n    </tr>\n  </tbody>\n</table>\n<p>1081 rows × 5 columns</p>\n</div>"
     },
     "execution_count": 169,
     "metadata": {},
     "output_type": "execute_result"
    }
   ],
   "source": [
    "weights = pd.read_csv(\n",
    "    'weights.csv',\n",
    "    index_col=0,\n",
    "    parse_dates=True,\n",
    ")\n",
    "weights"
   ]
  },
  {
   "cell_type": "code",
   "execution_count": 170,
   "metadata": {},
   "outputs": [],
   "source": [
    "weights = weights.sort_index()"
   ]
  },
  {
   "cell_type": "code",
   "execution_count": 171,
   "metadata": {},
   "outputs": [
    {
     "data": {
      "text/plain": "            AT0000A18XM4 SW  BE0974268972 BB  US0527691069 US  \\\n2014-01-14         0.184660         0.275706         0.303425   \n2014-01-15         0.225875         0.147861         0.151211   \n2014-01-16         0.261017         0.334213         0.293336   \n2014-01-17         0.160168         0.231034         0.092674   \n2014-01-18         0.057162         0.254146         0.027286   \n...                     ...              ...              ...   \n2018-02-28         0.123821         0.167899         0.120844   \n2018-03-01         0.035043         0.289624         0.220871   \n2018-03-02         0.397155         0.362025         0.050554   \n2018-03-03         0.319902         0.277405         0.051719   \n2018-03-06         0.057699         0.352290         0.291162   \n\n            DE0007164600 GR  US6092071058 US  \n2014-01-14         0.042841         0.193368  \n2014-01-15         0.224074         0.250978  \n2014-01-16         0.015744         0.095690  \n2014-01-17         0.269050         0.247074  \n2014-01-18         0.480660         0.180746  \n...                     ...              ...  \n2018-02-28         0.088780         0.498657  \n2018-03-01         0.136366         0.318096  \n2018-03-02         0.020247         0.170019  \n2018-03-03         0.008164         0.342810  \n2018-03-06         0.197700         0.101148  \n\n[1081 rows x 5 columns]",
      "text/html": "<div>\n<style scoped>\n    .dataframe tbody tr th:only-of-type {\n        vertical-align: middle;\n    }\n\n    .dataframe tbody tr th {\n        vertical-align: top;\n    }\n\n    .dataframe thead th {\n        text-align: right;\n    }\n</style>\n<table border=\"1\" class=\"dataframe\">\n  <thead>\n    <tr style=\"text-align: right;\">\n      <th></th>\n      <th>AT0000A18XM4 SW</th>\n      <th>BE0974268972 BB</th>\n      <th>US0527691069 US</th>\n      <th>DE0007164600 GR</th>\n      <th>US6092071058 US</th>\n    </tr>\n  </thead>\n  <tbody>\n    <tr>\n      <th>2014-01-14</th>\n      <td>0.184660</td>\n      <td>0.275706</td>\n      <td>0.303425</td>\n      <td>0.042841</td>\n      <td>0.193368</td>\n    </tr>\n    <tr>\n      <th>2014-01-15</th>\n      <td>0.225875</td>\n      <td>0.147861</td>\n      <td>0.151211</td>\n      <td>0.224074</td>\n      <td>0.250978</td>\n    </tr>\n    <tr>\n      <th>2014-01-16</th>\n      <td>0.261017</td>\n      <td>0.334213</td>\n      <td>0.293336</td>\n      <td>0.015744</td>\n      <td>0.095690</td>\n    </tr>\n    <tr>\n      <th>2014-01-17</th>\n      <td>0.160168</td>\n      <td>0.231034</td>\n      <td>0.092674</td>\n      <td>0.269050</td>\n      <td>0.247074</td>\n    </tr>\n    <tr>\n      <th>2014-01-18</th>\n      <td>0.057162</td>\n      <td>0.254146</td>\n      <td>0.027286</td>\n      <td>0.480660</td>\n      <td>0.180746</td>\n    </tr>\n    <tr>\n      <th>...</th>\n      <td>...</td>\n      <td>...</td>\n      <td>...</td>\n      <td>...</td>\n      <td>...</td>\n    </tr>\n    <tr>\n      <th>2018-02-28</th>\n      <td>0.123821</td>\n      <td>0.167899</td>\n      <td>0.120844</td>\n      <td>0.088780</td>\n      <td>0.498657</td>\n    </tr>\n    <tr>\n      <th>2018-03-01</th>\n      <td>0.035043</td>\n      <td>0.289624</td>\n      <td>0.220871</td>\n      <td>0.136366</td>\n      <td>0.318096</td>\n    </tr>\n    <tr>\n      <th>2018-03-02</th>\n      <td>0.397155</td>\n      <td>0.362025</td>\n      <td>0.050554</td>\n      <td>0.020247</td>\n      <td>0.170019</td>\n    </tr>\n    <tr>\n      <th>2018-03-03</th>\n      <td>0.319902</td>\n      <td>0.277405</td>\n      <td>0.051719</td>\n      <td>0.008164</td>\n      <td>0.342810</td>\n    </tr>\n    <tr>\n      <th>2018-03-06</th>\n      <td>0.057699</td>\n      <td>0.352290</td>\n      <td>0.291162</td>\n      <td>0.197700</td>\n      <td>0.101148</td>\n    </tr>\n  </tbody>\n</table>\n<p>1081 rows × 5 columns</p>\n</div>"
     },
     "execution_count": 171,
     "metadata": {},
     "output_type": "execute_result"
    }
   ],
   "source": [
    "#Убедились что все по порядку \n",
    "weights"
   ]
  },
  {
   "cell_type": "code",
   "execution_count": 172,
   "metadata": {},
   "outputs": [
    {
     "data": {
      "text/plain": "            AT0000A18XM4 SW  BE0974268972 BB\n2014-01-14         0.184660         0.275706\n2014-01-15         0.225875         0.147861\n2014-01-16         0.261017         0.334213\n2014-01-17         0.160168         0.231034\n2014-01-18         0.057162         0.254146\n...                     ...              ...\n2018-02-28         0.123821         0.167899\n2018-03-01         0.035043         0.289624\n2018-03-02         0.397155         0.362025\n2018-03-03         0.319902         0.277405\n2018-03-06         0.057699         0.352290\n\n[1081 rows x 2 columns]",
      "text/html": "<div>\n<style scoped>\n    .dataframe tbody tr th:only-of-type {\n        vertical-align: middle;\n    }\n\n    .dataframe tbody tr th {\n        vertical-align: top;\n    }\n\n    .dataframe thead th {\n        text-align: right;\n    }\n</style>\n<table border=\"1\" class=\"dataframe\">\n  <thead>\n    <tr style=\"text-align: right;\">\n      <th></th>\n      <th>AT0000A18XM4 SW</th>\n      <th>BE0974268972 BB</th>\n    </tr>\n  </thead>\n  <tbody>\n    <tr>\n      <th>2014-01-14</th>\n      <td>0.184660</td>\n      <td>0.275706</td>\n    </tr>\n    <tr>\n      <th>2014-01-15</th>\n      <td>0.225875</td>\n      <td>0.147861</td>\n    </tr>\n    <tr>\n      <th>2014-01-16</th>\n      <td>0.261017</td>\n      <td>0.334213</td>\n    </tr>\n    <tr>\n      <th>2014-01-17</th>\n      <td>0.160168</td>\n      <td>0.231034</td>\n    </tr>\n    <tr>\n      <th>2014-01-18</th>\n      <td>0.057162</td>\n      <td>0.254146</td>\n    </tr>\n    <tr>\n      <th>...</th>\n      <td>...</td>\n      <td>...</td>\n    </tr>\n    <tr>\n      <th>2018-02-28</th>\n      <td>0.123821</td>\n      <td>0.167899</td>\n    </tr>\n    <tr>\n      <th>2018-03-01</th>\n      <td>0.035043</td>\n      <td>0.289624</td>\n    </tr>\n    <tr>\n      <th>2018-03-02</th>\n      <td>0.397155</td>\n      <td>0.362025</td>\n    </tr>\n    <tr>\n      <th>2018-03-03</th>\n      <td>0.319902</td>\n      <td>0.277405</td>\n    </tr>\n    <tr>\n      <th>2018-03-06</th>\n      <td>0.057699</td>\n      <td>0.352290</td>\n    </tr>\n  </tbody>\n</table>\n<p>1081 rows × 2 columns</p>\n</div>"
     },
     "execution_count": 172,
     "metadata": {},
     "output_type": "execute_result"
    }
   ],
   "source": [
    "weights[['AT0000A18XM4 SW','BE0974268972 BB']]"
   ]
  },
  {
   "cell_type": "code",
   "execution_count": 173,
   "metadata": {},
   "outputs": [
    {
     "data": {
      "text/plain": "            AT0000A18XM4 SW  US6092071058 US\n2018-02-28         0.123821         0.498657\n2018-03-01         0.035043         0.318096\n2018-03-02         0.397155         0.170019\n2018-03-03         0.319902         0.342810\n2018-03-06         0.057699         0.101148",
      "text/html": "<div>\n<style scoped>\n    .dataframe tbody tr th:only-of-type {\n        vertical-align: middle;\n    }\n\n    .dataframe tbody tr th {\n        vertical-align: top;\n    }\n\n    .dataframe thead th {\n        text-align: right;\n    }\n</style>\n<table border=\"1\" class=\"dataframe\">\n  <thead>\n    <tr style=\"text-align: right;\">\n      <th></th>\n      <th>AT0000A18XM4 SW</th>\n      <th>US6092071058 US</th>\n    </tr>\n  </thead>\n  <tbody>\n    <tr>\n      <th>2018-02-28</th>\n      <td>0.123821</td>\n      <td>0.498657</td>\n    </tr>\n    <tr>\n      <th>2018-03-01</th>\n      <td>0.035043</td>\n      <td>0.318096</td>\n    </tr>\n    <tr>\n      <th>2018-03-02</th>\n      <td>0.397155</td>\n      <td>0.170019</td>\n    </tr>\n    <tr>\n      <th>2018-03-03</th>\n      <td>0.319902</td>\n      <td>0.342810</td>\n    </tr>\n    <tr>\n      <th>2018-03-06</th>\n      <td>0.057699</td>\n      <td>0.101148</td>\n    </tr>\n  </tbody>\n</table>\n</div>"
     },
     "execution_count": 173,
     "metadata": {},
     "output_type": "execute_result"
    }
   ],
   "source": [
    "weights['2018-02-28':][['AT0000A18XM4 SW','US6092071058 US']]"
   ]
  },
  {
   "cell_type": "code",
   "execution_count": 174,
   "metadata": {
    "pycharm": {
     "name": "#%%\n"
    }
   },
   "outputs": [],
   "source": [
    "# # Вывести все в виде строк\n",
    "# print(weights.to_string())\n"
   ]
  },
  {
   "cell_type": "markdown",
   "source": [
    "Агрегирование\n"
   ],
   "metadata": {
    "collapsed": false,
    "pycharm": {
     "name": "#%% md\n"
    }
   }
  },
  {
   "cell_type": "code",
   "execution_count": 175,
   "outputs": [
    {
     "data": {
      "text/plain": "     AT0000A18XM4 SW  BE0974268972 BB  US0527691069 US  DE0007164600 GR  \\\nmin         0.000063         0.000018         0.000331     2.895741e-07   \nmax         0.588783         0.638583         0.792982     8.555499e-01   \n\n     US6092071058 US  \nmin         0.000132  \nmax         0.621904  ",
      "text/html": "<div>\n<style scoped>\n    .dataframe tbody tr th:only-of-type {\n        vertical-align: middle;\n    }\n\n    .dataframe tbody tr th {\n        vertical-align: top;\n    }\n\n    .dataframe thead th {\n        text-align: right;\n    }\n</style>\n<table border=\"1\" class=\"dataframe\">\n  <thead>\n    <tr style=\"text-align: right;\">\n      <th></th>\n      <th>AT0000A18XM4 SW</th>\n      <th>BE0974268972 BB</th>\n      <th>US0527691069 US</th>\n      <th>DE0007164600 GR</th>\n      <th>US6092071058 US</th>\n    </tr>\n  </thead>\n  <tbody>\n    <tr>\n      <th>min</th>\n      <td>0.000063</td>\n      <td>0.000018</td>\n      <td>0.000331</td>\n      <td>2.895741e-07</td>\n      <td>0.000132</td>\n    </tr>\n    <tr>\n      <th>max</th>\n      <td>0.588783</td>\n      <td>0.638583</td>\n      <td>0.792982</td>\n      <td>8.555499e-01</td>\n      <td>0.621904</td>\n    </tr>\n  </tbody>\n</table>\n</div>"
     },
     "execution_count": 175,
     "metadata": {},
     "output_type": "execute_result"
    }
   ],
   "source": [
    "weights.agg(['min', 'max'])"
   ],
   "metadata": {
    "collapsed": false,
    "pycharm": {
     "name": "#%%\n"
    }
   }
  },
  {
   "cell_type": "code",
   "execution_count": 176,
   "outputs": [
    {
     "data": {
      "text/plain": "     AT0000A18XM4 SW  BE0974268972 BB  US0527691069 US  DE0007164600 GR  \\\nsum       207.610076       219.560807       221.511034       217.219639   \n\n     US6092071058 US  \nsum       215.098445  ",
      "text/html": "<div>\n<style scoped>\n    .dataframe tbody tr th:only-of-type {\n        vertical-align: middle;\n    }\n\n    .dataframe tbody tr th {\n        vertical-align: top;\n    }\n\n    .dataframe thead th {\n        text-align: right;\n    }\n</style>\n<table border=\"1\" class=\"dataframe\">\n  <thead>\n    <tr style=\"text-align: right;\">\n      <th></th>\n      <th>AT0000A18XM4 SW</th>\n      <th>BE0974268972 BB</th>\n      <th>US0527691069 US</th>\n      <th>DE0007164600 GR</th>\n      <th>US6092071058 US</th>\n    </tr>\n  </thead>\n  <tbody>\n    <tr>\n      <th>sum</th>\n      <td>207.610076</td>\n      <td>219.560807</td>\n      <td>221.511034</td>\n      <td>217.219639</td>\n      <td>215.098445</td>\n    </tr>\n  </tbody>\n</table>\n</div>"
     },
     "execution_count": 176,
     "metadata": {},
     "output_type": "execute_result"
    }
   ],
   "source": [
    "weights.agg(['sum'])"
   ],
   "metadata": {
    "collapsed": false,
    "pycharm": {
     "name": "#%%\n"
    }
   }
  },
  {
   "cell_type": "code",
   "execution_count": 177,
   "outputs": [
    {
     "data": {
      "text/plain": "AT0000A18XM4 SW   2017-05-06\nBE0974268972 BB   2014-10-08\nUS0527691069 US   2017-08-24\nDE0007164600 GR   2017-01-25\nUS6092071058 US   2016-06-15\ndtype: datetime64[ns]"
     },
     "execution_count": 177,
     "metadata": {},
     "output_type": "execute_result"
    }
   ],
   "source": [
    "# Самые большие данные для индексов\n",
    "weights.idxmax()"
   ],
   "metadata": {
    "collapsed": false,
    "pycharm": {
     "name": "#%%\n"
    }
   }
  },
  {
   "cell_type": "code",
   "execution_count": 178,
   "outputs": [
    {
     "data": {
      "text/plain": "            AT0000A18XM4 SW  BE0974268972 BB  US0527691069 US  \\\n2017-05-06         0.588783         0.098971         0.065059   \n2014-10-08         0.055022         0.638583         0.087784   \n2017-08-24         0.016481         0.081014         0.792982   \n2017-01-25         0.033026         0.044487         0.063948   \n2016-06-15         0.089216         0.227885         0.007397   \n\n            DE0007164600 GR  US6092071058 US  \n2017-05-06         0.220716         0.026471  \n2014-10-08         0.004366         0.214245  \n2017-08-24         0.034498         0.075025  \n2017-01-25         0.855550         0.002989  \n2016-06-15         0.053598         0.621904  ",
      "text/html": "<div>\n<style scoped>\n    .dataframe tbody tr th:only-of-type {\n        vertical-align: middle;\n    }\n\n    .dataframe tbody tr th {\n        vertical-align: top;\n    }\n\n    .dataframe thead th {\n        text-align: right;\n    }\n</style>\n<table border=\"1\" class=\"dataframe\">\n  <thead>\n    <tr style=\"text-align: right;\">\n      <th></th>\n      <th>AT0000A18XM4 SW</th>\n      <th>BE0974268972 BB</th>\n      <th>US0527691069 US</th>\n      <th>DE0007164600 GR</th>\n      <th>US6092071058 US</th>\n    </tr>\n  </thead>\n  <tbody>\n    <tr>\n      <th>2017-05-06</th>\n      <td>0.588783</td>\n      <td>0.098971</td>\n      <td>0.065059</td>\n      <td>0.220716</td>\n      <td>0.026471</td>\n    </tr>\n    <tr>\n      <th>2014-10-08</th>\n      <td>0.055022</td>\n      <td>0.638583</td>\n      <td>0.087784</td>\n      <td>0.004366</td>\n      <td>0.214245</td>\n    </tr>\n    <tr>\n      <th>2017-08-24</th>\n      <td>0.016481</td>\n      <td>0.081014</td>\n      <td>0.792982</td>\n      <td>0.034498</td>\n      <td>0.075025</td>\n    </tr>\n    <tr>\n      <th>2017-01-25</th>\n      <td>0.033026</td>\n      <td>0.044487</td>\n      <td>0.063948</td>\n      <td>0.855550</td>\n      <td>0.002989</td>\n    </tr>\n    <tr>\n      <th>2016-06-15</th>\n      <td>0.089216</td>\n      <td>0.227885</td>\n      <td>0.007397</td>\n      <td>0.053598</td>\n      <td>0.621904</td>\n    </tr>\n  </tbody>\n</table>\n</div>"
     },
     "execution_count": 178,
     "metadata": {},
     "output_type": "execute_result"
    }
   ],
   "source": [
    "weights.loc[weights.idxmax()]"
   ],
   "metadata": {
    "collapsed": false,
    "pycharm": {
     "name": "#%%\n"
    }
   }
  },
  {
   "cell_type": "markdown",
   "source": [
    "Работа с Json"
   ],
   "metadata": {
    "collapsed": false,
    "pycharm": {
     "name": "#%% md\n"
    }
   }
  },
  {
   "cell_type": "code",
   "execution_count": 247,
   "outputs": [],
   "source": [
    "import json\n",
    "from datetime import datetime\n",
    "\n",
    "with open('fines.json') as f:\n",
    "    json_str = f.read()\n",
    "\n",
    "value_raw = json.loads(json_str)['Value']\n",
    "fines_list = json.loads(value_raw)['Fines']"
   ],
   "metadata": {
    "collapsed": false,
    "pycharm": {
     "name": "#%%\n"
    }
   }
  },
  {
   "cell_type": "code",
   "execution_count": 248,
   "outputs": [
    {
     "name": "stdout",
     "output_type": "stream",
     "text": [
      "{'AdminOffensesTypeText': 'Штраф',\n",
      " 'AmountToPay': 0,\n",
      " 'ApnDetail': [{'AttrId': 'StAP',\n",
      "                'Name': 'Статья КоАП или закона субъекта РФ, состав '\n",
      "                        'правонарушения',\n",
      "                'Value': '12.17 ч.1.2 - Движение или остановка на полосе для '\n",
      "                         'маршрутных ТС в Москве или в Санкт-Петербурге'},\n",
      "               {'AttrId': 'MestoDAP',\n",
      "                'Name': 'Место составления документа',\n",
      "                'Value': 'САДОВАЯ-САМОТЕЧНАЯ,д.1,ТВЕРСКОЙ (ЦАО) Р-Н'},\n",
      "               {'AttrId': 'DatNar',\n",
      "                'Name': 'Дата и время нарушения',\n",
      "                'Value': '23.01.2018 00:21:00'},\n",
      "               {'AttrId': 'MestoNar',\n",
      "                'Name': 'Место нарушения',\n",
      "                'Value': 'МОСКВА Г.   МОХОВАЯ д.15/1'},\n",
      "               {'AttrId': 'OdpsName',\n",
      "                'Name': 'Орган власти, выявивший нарушение',\n",
      "                'Value': 'ЦАФАП ОДД ГИБДД ГУ МВД России по г.Москве'},\n",
      "               {'AttrId': 'FIONarush',\n",
      "                'Name': 'Нарушитель',\n",
      "                'Value': 'ЛЕОНИД ЭДУАРДОВИЧ'},\n",
      "               {'AttrId': 'GRZNarush',\n",
      "                'Name': 'Транспортное средство',\n",
      "                'Value': 'С700*****'}],\n",
      " 'DAP': '18810177180125209293',\n",
      " 'DAPName': 'Постановление по видеофиксации №18810177180125209293 от '\n",
      "            '25.01.2018',\n",
      " 'DateDAP': '25.01.2018',\n",
      " 'DiscountDate': '',\n",
      " 'DiscountSize': '',\n",
      " 'DiscountSizeAmountToPaySum': None,\n",
      " 'FineStatus': 1,\n",
      " 'FineSum': 3000,\n",
      " 'HasAdditionalActions': False,\n",
      " 'HasPhoto': True,\n",
      " 'IsFine': True,\n",
      " 'Latitude': '55,7563209999',\n",
      " 'Longitude': '37,614136',\n",
      " 'OdpsKod': '1145519',\n",
      " 'PayedAmountSum': None,\n",
      " 'PaymentId': '',\n",
      " 'Sh': '{\"DAP\":\"18810177180125209293\",\"DateDAP\":\"25.01.2018\",\"ODPS\":\"ЦАФАП ОДД '\n",
      "       'ГИБДД ГУ МВД России по '\n",
      "       'г.Москве\",\"PaymentID\":null,\"RsRschet\":\"40101810045250010041\",\"SgBuk\":\"044525000\",\"ShBankName\":\"ГУ '\n",
      "       'Банка России по '\n",
      "       'ЦФО\",\"ShInn\":\"7707089101\",\"ShKbk\":\"18811630020016000140\",\"ShKpp\":\"770731005\",\"ShOkato\":\"45379000\",\"ShPoluchName\":\"УФК '\n",
      "       'по г. Москве (УГИБДД ГУ МВД России по '\n",
      "       'г.Москве)\",\"Sum\":3000,\"Uin\":\"18810177180125209293\"}',\n",
      " 'Sts': '7741525886',\n",
      " 'Type': 0,\n",
      " 'UID': 'f9e58750-5f64-4138-942a-67e0967d4547',\n",
      " 'VidNak': '2',\n",
      " 'VstupDate': '',\n",
      " 'Vu': ''}\n"
     ]
    }
   ],
   "source": [
    "from pprint import pprint\n",
    "pprint(fines_list[0])\n",
    "\n",
    "\n"
   ],
   "metadata": {
    "collapsed": false,
    "pycharm": {
     "name": "#%%\n"
    }
   }
  },
  {
   "cell_type": "code",
   "execution_count": 260,
   "outputs": [
    {
     "data": {
      "text/plain": "                                                  Name  \\\n0    12.17 ч.1.2 - Движение или остановка на полосе...   \n1    12.09.2 - Превышение скорости движения ТС от 2...   \n2    12.9.6 - Повторное превышение скорости на 40-6...   \n3    12.15.1 - Наруш.правил расп.т/с на пр.части бе...   \n4    12.9.6 - Повторное превышение скорости на 40-6...   \n..                                                 ...   \n830  12.09.2 - Превышение скорости движения ТС от 2...   \n831  12.16.5 Нарушение, предусмотренное частью 4 на...   \n832  12.16.5 Нарушение, предусмотренное частью 4 на...   \n833  12.16.5 Нарушение, предусмотренное частью 4 на...   \n834  12.16.5 Нарушение, предусмотренное частью 4 на...   \n\n                                        Place  Fine sum  \n0                  МОСКВА Г.   МОХОВАЯ д.15/1      3000  \n1      А/Д М-9 \"БАЛТИЯ\", 24КМ+750М, ИЗ МОСКВЫ       500  \n2              МОСКВА Г.   РУБЛЕВСКОЕ Ш. д.79      2000  \n3              МОСКВА Г.   КУТУЗОВСКИЙ ПРОСП.      1500  \n4              МОСКВА Г.   НОВЫЙ АРБАТ д.36/9      2000  \n..                                        ...       ...  \n830              МОСКВА Г.   НОВЫЙ АРБАТ д.28       500  \n831              г. Москва, Тверская улица, 4      3000  \n832              г. Москва, Тверская улица, 4      3000  \n833          г. Москва, ул. Охотный Ряд, д. 2      3000  \n834              г. Москва, Тверская улица, 3      3000  \n\n[835 rows x 3 columns]",
      "text/html": "<div>\n<style scoped>\n    .dataframe tbody tr th:only-of-type {\n        vertical-align: middle;\n    }\n\n    .dataframe tbody tr th {\n        vertical-align: top;\n    }\n\n    .dataframe thead th {\n        text-align: right;\n    }\n</style>\n<table border=\"1\" class=\"dataframe\">\n  <thead>\n    <tr style=\"text-align: right;\">\n      <th></th>\n      <th>Name</th>\n      <th>Place</th>\n      <th>Fine sum</th>\n    </tr>\n  </thead>\n  <tbody>\n    <tr>\n      <th>0</th>\n      <td>12.17 ч.1.2 - Движение или остановка на полосе...</td>\n      <td>МОСКВА Г.   МОХОВАЯ д.15/1</td>\n      <td>3000</td>\n    </tr>\n    <tr>\n      <th>1</th>\n      <td>12.09.2 - Превышение скорости движения ТС от 2...</td>\n      <td>А/Д М-9 \"БАЛТИЯ\", 24КМ+750М, ИЗ МОСКВЫ</td>\n      <td>500</td>\n    </tr>\n    <tr>\n      <th>2</th>\n      <td>12.9.6 - Повторное превышение скорости на 40-6...</td>\n      <td>МОСКВА Г.   РУБЛЕВСКОЕ Ш. д.79</td>\n      <td>2000</td>\n    </tr>\n    <tr>\n      <th>3</th>\n      <td>12.15.1 - Наруш.правил расп.т/с на пр.части бе...</td>\n      <td>МОСКВА Г.   КУТУЗОВСКИЙ ПРОСП.</td>\n      <td>1500</td>\n    </tr>\n    <tr>\n      <th>4</th>\n      <td>12.9.6 - Повторное превышение скорости на 40-6...</td>\n      <td>МОСКВА Г.   НОВЫЙ АРБАТ д.36/9</td>\n      <td>2000</td>\n    </tr>\n    <tr>\n      <th>...</th>\n      <td>...</td>\n      <td>...</td>\n      <td>...</td>\n    </tr>\n    <tr>\n      <th>830</th>\n      <td>12.09.2 - Превышение скорости движения ТС от 2...</td>\n      <td>МОСКВА Г.   НОВЫЙ АРБАТ д.28</td>\n      <td>500</td>\n    </tr>\n    <tr>\n      <th>831</th>\n      <td>12.16.5 Нарушение, предусмотренное частью 4 на...</td>\n      <td>г. Москва, Тверская улица, 4</td>\n      <td>3000</td>\n    </tr>\n    <tr>\n      <th>832</th>\n      <td>12.16.5 Нарушение, предусмотренное частью 4 на...</td>\n      <td>г. Москва, Тверская улица, 4</td>\n      <td>3000</td>\n    </tr>\n    <tr>\n      <th>833</th>\n      <td>12.16.5 Нарушение, предусмотренное частью 4 на...</td>\n      <td>г. Москва, ул. Охотный Ряд, д. 2</td>\n      <td>3000</td>\n    </tr>\n    <tr>\n      <th>834</th>\n      <td>12.16.5 Нарушение, предусмотренное частью 4 на...</td>\n      <td>г. Москва, Тверская улица, 3</td>\n      <td>3000</td>\n    </tr>\n  </tbody>\n</table>\n<p>835 rows × 3 columns</p>\n</div>"
     },
     "execution_count": 260,
     "metadata": {},
     "output_type": "execute_result"
    }
   ],
   "source": [
    "fines = []\n",
    "for fine in fines_list:\n",
    "    fines.append({\n",
    "        'Name': fine['ApnDetail'][0]['Value'].replace('\\t', ' - '),\n",
    "        'Place': fine['ApnDetail'][3]['Value'],\n",
    "        'Fine sum': fine['FineSum'],\n",
    "    })\n",
    "\n",
    "fines_df = pd.DataFrame.from_dict(fines)\n",
    "fines_df"
   ],
   "metadata": {
    "collapsed": false,
    "pycharm": {
     "name": "#%%\n"
    }
   }
  },
  {
   "cell_type": "code",
   "execution_count": 265,
   "outputs": [
    {
     "data": {
      "text/plain": "                                                    count     sum\nName                                                             \n12.09.2 - Превышение скорости движения ТС от 20...    361  180500\n12.17 ч.1.2 - Движение или остановка на полосе ...    212  636000\n12.15.1 - Наруш.правил расп.т/с на пр.части без...     95  142500\n12.9.6 - Повторное превышение скорости на 40-60...     94  188000\n12.15.5 - Повторный выезд на сторону, предназна...     21  105000\n12.9.7 - Повторное превышение скорости на 60-80...     17   85000\n12.16.5 Нарушение, предусмотренное частью 4 нас...     15   45000\n12.16.1 - Несоблюдение требований знаков или ра...      8    4000\n12.09.3 - Превышение скорости движения ТС от 40...      7    7000\n12.19 ч.6 - Стоянка, остановка ТС на проезжей ч...      3    9000\n12.16.2 - Поворот налево или разворот в нарушен...      1    1000\n8.14.2  - Неуплата за размещение транспортного ...      1    2500",
      "text/html": "<div>\n<style scoped>\n    .dataframe tbody tr th:only-of-type {\n        vertical-align: middle;\n    }\n\n    .dataframe tbody tr th {\n        vertical-align: top;\n    }\n\n    .dataframe thead th {\n        text-align: right;\n    }\n</style>\n<table border=\"1\" class=\"dataframe\">\n  <thead>\n    <tr style=\"text-align: right;\">\n      <th></th>\n      <th>count</th>\n      <th>sum</th>\n    </tr>\n    <tr>\n      <th>Name</th>\n      <th></th>\n      <th></th>\n    </tr>\n  </thead>\n  <tbody>\n    <tr>\n      <th>12.09.2 - Превышение скорости движения ТС от 20 до 40 км/ч</th>\n      <td>361</td>\n      <td>180500</td>\n    </tr>\n    <tr>\n      <th>12.17 ч.1.2 - Движение или остановка на полосе для маршрутных ТС в Москве или в Санкт-Петербурге</th>\n      <td>212</td>\n      <td>636000</td>\n    </tr>\n    <tr>\n      <th>12.15.1 - Наруш.правил расп.т/с на пр.части без выезда на ст.встр.движ.,дв.по обоч.,пересечение колонны</th>\n      <td>95</td>\n      <td>142500</td>\n    </tr>\n    <tr>\n      <th>12.9.6 - Повторное превышение скорости на 40-60 км/час</th>\n      <td>94</td>\n      <td>188000</td>\n    </tr>\n    <tr>\n      <th>12.15.5 - Повторный выезд на сторону, предназначенную для встречного движения</th>\n      <td>21</td>\n      <td>105000</td>\n    </tr>\n    <tr>\n      <th>12.9.7 - Повторное превышение скорости на 60-80 км/час и более 80 км/ч</th>\n      <td>17</td>\n      <td>85000</td>\n    </tr>\n    <tr>\n      <th>12.16.5 Нарушение, предусмотренное частью 4 настоящей статьи, совершенное в городе федерального значения Москве или Санкт-Петербурге</th>\n      <td>15</td>\n      <td>45000</td>\n    </tr>\n    <tr>\n      <th>12.16.1 - Несоблюдение требований знаков или разметки, за искл.случаев, предусм.др.статьями гл.12</th>\n      <td>8</td>\n      <td>4000</td>\n    </tr>\n    <tr>\n      <th>12.09.3 - Превышение скорости движения ТС от 40 до 60 км/ч</th>\n      <td>7</td>\n      <td>7000</td>\n    </tr>\n    <tr>\n      <th>12.19 ч.6 - Стоянка, остановка ТС на проезжей части, либо далее 1-й полосы в Москве или в Санкт-Петербурге</th>\n      <td>3</td>\n      <td>9000</td>\n    </tr>\n    <tr>\n      <th>12.16.2 - Поворот налево или разворот в нарушение знаков или разметки</th>\n      <td>1</td>\n      <td>1000</td>\n    </tr>\n    <tr>\n      <th>8.14.2  - Неуплата за размещение транспортного средства на платной городской парковке</th>\n      <td>1</td>\n      <td>2500</td>\n    </tr>\n  </tbody>\n</table>\n</div>"
     },
     "execution_count": 265,
     "metadata": {},
     "output_type": "execute_result"
    }
   ],
   "source": [
    "summary = fines_df.groupby('Name')['Fine sum'].agg(\n",
    "    ['count', 'sum'],\n",
    ").sort_values(['count'], ascending=False)\n",
    "summary"
   ],
   "metadata": {
    "collapsed": false,
    "pycharm": {
     "name": "#%%\n"
    }
   }
  },
  {
   "cell_type": "code",
   "execution_count": 271,
   "outputs": [
    {
     "data": {
      "text/plain": "count        835\nsum      1405500\nName: Уплата штрафов, dtype: int64"
     },
     "execution_count": 271,
     "metadata": {},
     "output_type": "execute_result"
    }
   ],
   "source": [
    "pd.Series(summary.sum(),name='Уплата штрафов')"
   ],
   "metadata": {
    "collapsed": false,
    "pycharm": {
     "name": "#%%\n"
    }
   }
  },
  {
   "cell_type": "code",
   "execution_count": 273,
   "outputs": [
    {
     "data": {
      "text/plain": "                                                    count      sum\nName                                                              \n12.09.2 - Превышение скорости движения ТС от 20...    361   180500\n12.17 ч.1.2 - Движение или остановка на полосе ...    212   636000\n12.15.1 - Наруш.правил расп.т/с на пр.части без...     95   142500\n12.9.6 - Повторное превышение скорости на 40-60...     94   188000\n12.15.5 - Повторный выезд на сторону, предназна...     21   105000\n12.9.7 - Повторное превышение скорости на 60-80...     17    85000\n12.16.5 Нарушение, предусмотренное частью 4 нас...     15    45000\n12.16.1 - Несоблюдение требований знаков или ра...      8     4000\n12.09.3 - Превышение скорости движения ТС от 40...      7     7000\n12.19 ч.6 - Стоянка, остановка ТС на проезжей ч...      3     9000\n12.16.2 - Поворот налево или разворот в нарушен...      1     1000\n8.14.2  - Неуплата за размещение транспортного ...      1     2500\nВсего уплачено штрафов                                835  1405500",
      "text/html": "<div>\n<style scoped>\n    .dataframe tbody tr th:only-of-type {\n        vertical-align: middle;\n    }\n\n    .dataframe tbody tr th {\n        vertical-align: top;\n    }\n\n    .dataframe thead th {\n        text-align: right;\n    }\n</style>\n<table border=\"1\" class=\"dataframe\">\n  <thead>\n    <tr style=\"text-align: right;\">\n      <th></th>\n      <th>count</th>\n      <th>sum</th>\n    </tr>\n    <tr>\n      <th>Name</th>\n      <th></th>\n      <th></th>\n    </tr>\n  </thead>\n  <tbody>\n    <tr>\n      <th>12.09.2 - Превышение скорости движения ТС от 20 до 40 км/ч</th>\n      <td>361</td>\n      <td>180500</td>\n    </tr>\n    <tr>\n      <th>12.17 ч.1.2 - Движение или остановка на полосе для маршрутных ТС в Москве или в Санкт-Петербурге</th>\n      <td>212</td>\n      <td>636000</td>\n    </tr>\n    <tr>\n      <th>12.15.1 - Наруш.правил расп.т/с на пр.части без выезда на ст.встр.движ.,дв.по обоч.,пересечение колонны</th>\n      <td>95</td>\n      <td>142500</td>\n    </tr>\n    <tr>\n      <th>12.9.6 - Повторное превышение скорости на 40-60 км/час</th>\n      <td>94</td>\n      <td>188000</td>\n    </tr>\n    <tr>\n      <th>12.15.5 - Повторный выезд на сторону, предназначенную для встречного движения</th>\n      <td>21</td>\n      <td>105000</td>\n    </tr>\n    <tr>\n      <th>12.9.7 - Повторное превышение скорости на 60-80 км/час и более 80 км/ч</th>\n      <td>17</td>\n      <td>85000</td>\n    </tr>\n    <tr>\n      <th>12.16.5 Нарушение, предусмотренное частью 4 настоящей статьи, совершенное в городе федерального значения Москве или Санкт-Петербурге</th>\n      <td>15</td>\n      <td>45000</td>\n    </tr>\n    <tr>\n      <th>12.16.1 - Несоблюдение требований знаков или разметки, за искл.случаев, предусм.др.статьями гл.12</th>\n      <td>8</td>\n      <td>4000</td>\n    </tr>\n    <tr>\n      <th>12.09.3 - Превышение скорости движения ТС от 40 до 60 км/ч</th>\n      <td>7</td>\n      <td>7000</td>\n    </tr>\n    <tr>\n      <th>12.19 ч.6 - Стоянка, остановка ТС на проезжей части, либо далее 1-й полосы в Москве или в Санкт-Петербурге</th>\n      <td>3</td>\n      <td>9000</td>\n    </tr>\n    <tr>\n      <th>12.16.2 - Поворот налево или разворот в нарушение знаков или разметки</th>\n      <td>1</td>\n      <td>1000</td>\n    </tr>\n    <tr>\n      <th>8.14.2  - Неуплата за размещение транспортного средства на платной городской парковке</th>\n      <td>1</td>\n      <td>2500</td>\n    </tr>\n    <tr>\n      <th>Всего уплачено штрафов</th>\n      <td>835</td>\n      <td>1405500</td>\n    </tr>\n  </tbody>\n</table>\n</div>"
     },
     "execution_count": 273,
     "metadata": {},
     "output_type": "execute_result"
    }
   ],
   "source": [
    "summary.append(\n",
    "    pd.Series(summary.sum(), name='Всего уплачено штрафов'))\n",
    "\n",
    "\n",
    "\n",
    "\n"
   ],
   "metadata": {
    "collapsed": false,
    "pycharm": {
     "name": "#%%\n"
    }
   }
  }
 ],
 "metadata": {
  "kernelspec": {
   "display_name": "Python 3",
   "language": "python",
   "name": "python3"
  },
  "language_info": {
   "codemirror_mode": {
    "name": "ipython",
    "version": 3
   },
   "file_extension": ".py",
   "mimetype": "text/x-python",
   "name": "python",
   "nbconvert_exporter": "python",
   "pygments_lexer": "ipython3",
   "version": "3.9.1"
  }
 },
 "nbformat": 4,
 "nbformat_minor": 1
}