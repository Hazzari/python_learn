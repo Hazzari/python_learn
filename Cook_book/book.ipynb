{
 "cells": [
  {
   "cell_type": "markdown",
   "metadata": {
    "collapsed": true,
    "pycharm": {
     "name": "#%% md\n"
    }
   },
   "source": [
    "## Книга рецептов"
   ]
  },
  {
   "cell_type": "markdown",
   "source": [
    "#### deque\n",
    "deque - имеет сложность вставки и удаления с обеих сторон O(1)"
   ],
   "metadata": {
    "collapsed": false,
    "pycharm": {
     "name": "#%% md\n"
    }
   }
  },
  {
   "cell_type": "code",
   "execution_count": 355,
   "outputs": [
    {
     "name": "stdout",
     "output_type": "stream",
     "text": [
      "1 with open('somefile.txt') as f:\n",
      "--------------------\n",
      "1 with open('somefile.txt') as f:\n",
      "2 with open('somefile.txt') as f:\n",
      "--------------------\n",
      "1 with open('somefile.txt') as f:\n",
      "2 with open('somefile.txt') as f:\n",
      "3 with open('somefile.txt') as f:\n",
      "--------------------\n",
      "2 with open('somefile.txt') as f:\n",
      "3 with open('somefile.txt') as f:\n",
      "4 with open('somefile.txt') as f:\n",
      "--------------------\n",
      "3 with open('somefile.txt') as f:\n",
      "4 with open('somefile.txt') as f:\n",
      "5 with open('somefile.txt') as f:\n",
      "--------------------\n",
      "4 with open('somefile.txt') as f:\n",
      "5 with open('somefile.txt') as f:\n",
      "6 with open('somefile.txt') as f:\n",
      "--------------------\n",
      "5 with open('somefile.txt') as f:\n",
      "6 with open('somefile.txt') as f:\n",
      "7 with open('somefile.txt') as f:\n",
      "--------------------\n",
      "6 with open('somefile.txt') as f:\n",
      "7 with open('somefile.txt') as f:\n",
      "8 with open('somefile.txt') as f:\n",
      "--------------------\n",
      "7 with open('somefile.txt') as f:\n",
      "8 with open('somefile.txt') as f:\n",
      "9 with open('somefile.txt') as f:\n",
      "--------------------\n"
     ]
    }
   ],
   "source": [
    "from collections import deque\n",
    "\n",
    "\n",
    "def search(lines, pattern, history=5):\n",
    "    # Поиск элемента в строке файла\n",
    "    previous_lines = deque(maxlen=history)\n",
    "\n",
    "    for line in lines:\n",
    "        if pattern in line:\n",
    "            yield line, previous_lines\n",
    "        previous_lines.append(line)\n",
    "\n",
    "\n",
    "if __name__ == '__main__':\n",
    "    with open('some_file.txt') as f:\n",
    "        for line, prevlines in search(lines=f, pattern='somefile', history=2):\n",
    "            for pline in prevlines:\n",
    "                print(pline, end='')\n",
    "            print(line, end='')\n",
    "            print('-' * 20)\n"
   ],
   "metadata": {
    "collapsed": false,
    "pycharm": {
     "name": "#%%\n"
    }
   }
  },
  {
   "cell_type": "code",
   "execution_count": 356,
   "outputs": [
    {
     "name": "stdout",
     "output_type": "stream",
     "text": [
      "[1, 8, 2, 23, 7, -4, 18, 23, 42, 37, 2]\n"
     ]
    }
   ],
   "source": [
    "import heapq\n",
    "\n",
    "nums = [1, 8, 2, 23 ,7, -4, 18, 23, 42, 37, 2]\n",
    "print(nums)"
   ],
   "metadata": {
    "collapsed": false,
    "pycharm": {
     "name": "#%%\n"
    }
   }
  },
  {
   "cell_type": "markdown",
   "source": [
    "nlargest - самые большие значения\n",
    "\n",
    "nsmallest - самые маленькие значения"
   ],
   "metadata": {
    "collapsed": false,
    "pycharm": {
     "name": "#%% md\n"
    }
   }
  },
  {
   "cell_type": "code",
   "execution_count": 357,
   "outputs": [
    {
     "name": "stdout",
     "output_type": "stream",
     "text": [
      "[42, 37, 23]\n",
      "[-4, 1, 2]\n"
     ]
    }
   ],
   "source": [
    "print(heapq.nlargest(3, nums))\n",
    "print(heapq.nsmallest(3, nums))\n"
   ],
   "metadata": {
    "collapsed": false,
    "pycharm": {
     "name": "#%%\n"
    }
   }
  },
  {
   "cell_type": "code",
   "execution_count": 358,
   "outputs": [
    {
     "name": "stdout",
     "output_type": "stream",
     "text": [
      "[{'name': 'AAPL', 'shares': 40, 'price': 12.2}, {'name': 'HPQ', 'shares': 254, 'price': 58.3}]\n",
      "[{'name': 'ACME', 'shares': 86, 'price': 94.3}, {'name': 'IBM', 'shares': 100, 'price': 92.3}]\n"
     ]
    }
   ],
   "source": [
    "portfolio = [\n",
    "    {'name': 'IBM', 'shares': 100, 'price': 92.3},\n",
    "    {'name': 'AAPL', 'shares': 40, 'price': 12.2},\n",
    "    {'name': 'FBQ', 'shares': 28, 'price': 65.23},\n",
    "    {'name': 'HPQ', 'shares': 254, 'price': 58.3},\n",
    "    {'name': 'YHOO', 'shares': 23, 'price': 82.9},\n",
    "    {'name': 'ACME', 'shares': 86, 'price': 94.3},\n",
    "]\n",
    "\n",
    "def a(s):\n",
    "    return s['price']\n",
    "\n",
    "cheap = heapq.nsmallest(2, portfolio, key=a)\n",
    "print(cheap)\n",
    "expensive = heapq.nlargest(2, portfolio, key=lambda s: s['price'])\n",
    "print(expensive)"
   ],
   "metadata": {
    "collapsed": false,
    "pycharm": {
     "name": "#%%\n"
    }
   }
  },
  {
   "cell_type": "code",
   "execution_count": 359,
   "outputs": [
    {
     "name": "stdout",
     "output_type": "stream",
     "text": [
      "[-15, 2, -4, 2.6, 23, 2, -2.7, 8, 18, 23, 42, 37, 7, -2, 1]\n",
      "-15\n",
      "-4\n",
      "-2.7\n",
      "-2\n",
      "1\n",
      "2\n",
      "2\n",
      "2.6\n",
      "7\n",
      "8\n",
      "18\n",
      "23\n",
      "23\n",
      "37\n",
      "42\n"
     ]
    }
   ],
   "source": [
    "nums = [1, 8, -15, 2, 23 ,7, -4, 2.6, 18, 23, 42, 37, 2,\n",
    "        -2, -2.7]\n",
    "heap = list(nums)\n",
    "# сортирует - первый элемент всегда наименьший\n",
    "heapq.heapify(heap)\n",
    "\n",
    "print(heap)\n",
    "\n",
    "for _ in range(len(heap)):\n",
    "    x = heapq.heappop(heap)\n",
    "    print(x)\n"
   ],
   "metadata": {
    "collapsed": false,
    "pycharm": {
     "name": "#%%\n"
    }
   }
  },
  {
   "cell_type": "markdown",
   "source": [
    "#### Очередь с приоритетом"
   ],
   "metadata": {
    "collapsed": false,
    "pycharm": {
     "name": "#%% md\n"
    }
   }
  },
  {
   "cell_type": "code",
   "execution_count": 360,
   "outputs": [],
   "source": [
    "\n",
    "import heapq\n",
    "from dataclasses import dataclass\n",
    "\n",
    "\n",
    "@dataclass\n",
    "class PriorityQueue:\n",
    "    \"\"\"\n",
    "    Очередь с приоритетом\n",
    "\n",
    "    \"\"\"\n",
    "    _queue = []\n",
    "    _index = 0\n",
    "    \n",
    "    def push(self, item, priority):\n",
    "        # priority отрицательно - куча сортируется от наибольшего к наименьшему\n",
    "        # дополнительный индекс - для возможности сравнения кортежей ( значения всегда уникальны )\n",
    "        heapq.heappush(self._queue, (-priority, self._index, item))\n",
    "        print('priority =',priority, 'item =', item)\n",
    "        self._index += 1\n",
    "    def pop(self):\n",
    "        return heapq.heappop(self._queue)[-1]\n",
    "\n",
    "@dataclass()\n",
    "class Item:\n",
    "    name: str\n",
    "\n",
    "    def __repr__(self):\n",
    "        return f'Item({self.name!r})'"
   ],
   "metadata": {
    "collapsed": false,
    "pycharm": {
     "name": "#%%\n"
    }
   }
  },
  {
   "cell_type": "code",
   "execution_count": 361,
   "outputs": [
    {
     "name": "stdout",
     "output_type": "stream",
     "text": [
      "priority = 4 item = Item('Foo')\n",
      "priority = 3 item = Item('Bar')\n",
      "priority = 5 item = Item('Spam')\n",
      "priority = 2 item = Item('Egg')\n",
      "priority = 1 item = Item('Grok')\n",
      "Item('Spam')\n",
      "Item('Foo')\n",
      "Item('Bar')\n",
      "Item('Egg')\n",
      "Item('Grok')\n"
     ]
    }
   ],
   "source": [
    "q = PriorityQueue()\n",
    "q.push(Item('Foo'), 4)\n",
    "q.push(Item('Bar'), 3)\n",
    "q.push(Item('Spam'), 5)\n",
    "q.push(Item('Egg'), 2)\n",
    "q.push(Item('Grok'), 1)\n",
    "\n",
    "print(q.pop())\n",
    "print(q.pop())\n",
    "print(q.pop())\n",
    "print(q.pop())\n",
    "print(q.pop())\n"
   ],
   "metadata": {
    "collapsed": false,
    "pycharm": {
     "name": "#%%\n"
    }
   }
  },
  {
   "cell_type": "markdown",
   "source": [
    "Как найти минимум и максимум в словаре"
   ],
   "metadata": {
    "collapsed": false,
    "pycharm": {
     "name": "#%% md\n"
    }
   }
  },
  {
   "cell_type": "code",
   "execution_count": 362,
   "outputs": [
    {
     "name": "stdout",
     "output_type": "stream",
     "text": [
      "min = (112, 'EEE')\n",
      "max = (331, 'BBB')\n",
      "sorted = [(112, 'EEE'), (123, 'AAA'), (132, 'DDD'), (212, 'CCC'), (331, 'BBB')]\n",
      "max = (331, 'BBB') | min = (112, 'EEE')\n"
     ]
    }
   ],
   "source": [
    "price = {'AAA': 123,\n",
    "     'BBB': 331,\n",
    "     'CCC': 212,\n",
    "     'DDD': 132,\n",
    "     'EEE': 112,\n",
    "     }\n",
    "min_price = min(zip(price.values(), price.keys()))\n",
    "max_price = max(zip(price.values(), price.keys()))\n",
    "sorted_price = sorted(zip(price.values(), price.keys()))\n",
    "\n",
    "print('min =', min_price)\n",
    "print('max =', max_price)\n",
    "print('sorted =', sorted_price)\n",
    "\n",
    "print('max =', max(sorted_price), '|', 'min =', min(sorted_price))\n",
    "\n"
   ],
   "metadata": {
    "collapsed": false,
    "pycharm": {
     "name": "#%%\n"
    }
   }
  },
  {
   "cell_type": "markdown",
   "source": [
    "Как работает zip:"
   ],
   "metadata": {
    "collapsed": false,
    "pycharm": {
     "name": "#%% md\n"
    }
   }
  },
  {
   "cell_type": "code",
   "execution_count": 363,
   "outputs": [
    {
     "name": "stdout",
     "output_type": "stream",
     "text": [
      "{3: 2, 1: 8, 4: 1, 5: 2, 9: 8, 2: 1, 6: 8}\n",
      "{(2, 1), (6, 8), (1, 8), (1, 7), (9, 8), (3, 2), (4, 1), (5, 2)}\n",
      "[(3, 2), (1, 7), (4, 1), (1, 8), (5, 2), (9, 8), (2, 1), (6, 8)]\n"
     ]
    }
   ],
   "source": [
    "my_numbers = [3, 1, 4, 1, 5, 9, 2, 6]\n",
    "they_numbers = [2, 7, 1, 8, 2, 8, 1, 8]\n",
    "\n",
    "my_pairs_dict = dict(zip(my_numbers, they_numbers))\n",
    "my_pairs_set = set(zip(my_numbers, they_numbers))\n",
    "my_pairs_list = list(zip(my_numbers, they_numbers))\n",
    "print(my_pairs_dict)\n",
    "print(my_pairs_set)\n",
    "print(my_pairs_list)"
   ],
   "metadata": {
    "collapsed": false,
    "pycharm": {
     "name": "#%%\n"
    }
   }
  },
  {
   "cell_type": "code",
   "execution_count": 363,
   "outputs": [],
   "source": [
    "\n"
   ],
   "metadata": {
    "collapsed": false,
    "pycharm": {
     "name": "#%%\n"
    }
   }
  }
 ],
 "metadata": {
  "kernelspec": {
   "display_name": "Python 3",
   "language": "python",
   "name": "python3"
  },
  "language_info": {
   "codemirror_mode": {
    "name": "ipython",
    "version": 2
   },
   "file_extension": ".py",
   "mimetype": "text/x-python",
   "name": "python",
   "nbconvert_exporter": "python",
   "pygments_lexer": "ipython2",
   "version": "2.7.6"
  }
 },
 "nbformat": 4,
 "nbformat_minor": 0
}